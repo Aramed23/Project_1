{
 "cells": [
  {
   "cell_type": "markdown",
   "id": "02eb4f6c",
   "metadata": {},
   "source": [
    "# Housing Trends in Philadelphia, PA"
   ]
  },
  {
   "cell_type": "markdown",
   "id": "7699e2fb",
   "metadata": {},
   "source": [
    "## Home values and rental prices across Pennsylvania cities (Arame)"
   ]
  },
  {
   "cell_type": "code",
   "execution_count": 1,
   "id": "61d032a0",
   "metadata": {},
   "outputs": [],
   "source": [
    "# Dependencies and Setup\n",
    "import matplotlib.pyplot as plt\n",
    "import matplotlib.ticker as mtick\n",
    "import pandas as pd\n",
    "from scipy.stats import linregress\n",
    "from pprint import pprint\n",
    "from pathlib import Path\n",
    "import numpy as np\n",
    "import requests\n",
    "import time\n",
    "import scipy.stats as st\n",
    "import json\n",
    "import geopandas\n",
    "import fiona"
   ]
  },
  {
   "cell_type": "code",
   "execution_count": 2,
   "id": "0c335d51",
   "metadata": {},
   "outputs": [
    {
     "ename": "FileNotFoundError",
     "evalue": "[Errno 2] No such file or directory: 'Resources\\\\All cities.csv'",
     "output_type": "error",
     "traceback": [
      "\u001b[1;31m---------------------------------------------------------------------------\u001b[0m",
      "\u001b[1;31mFileNotFoundError\u001b[0m                         Traceback (most recent call last)",
      "Cell \u001b[1;32mIn[2], line 5\u001b[0m\n\u001b[0;32m      3\u001b[0m rental_cities \u001b[38;5;241m=\u001b[39m Path(\u001b[38;5;124m\"\u001b[39m\u001b[38;5;124mResources/cities_Rental.csv\u001b[39m\u001b[38;5;124m\"\u001b[39m)\n\u001b[0;32m      4\u001b[0m \u001b[38;5;66;03m# Read Home Values and Rentals data files and store into Pandas DataFrames\u001b[39;00m\n\u001b[1;32m----> 5\u001b[0m all_cities_df \u001b[38;5;241m=\u001b[39m \u001b[43mpd\u001b[49m\u001b[38;5;241;43m.\u001b[39;49m\u001b[43mread_csv\u001b[49m\u001b[43m(\u001b[49m\u001b[43mall_cities\u001b[49m\u001b[43m)\u001b[49m\n\u001b[0;32m      6\u001b[0m rental_cities_df \u001b[38;5;241m=\u001b[39m pd\u001b[38;5;241m.\u001b[39mread_csv(rental_cities)\n",
      "File \u001b[1;32m~\\AppData\\Local\\anaconda3\\envs\\dev\\lib\\site-packages\\pandas\\util\\_decorators.py:211\u001b[0m, in \u001b[0;36mdeprecate_kwarg.<locals>._deprecate_kwarg.<locals>.wrapper\u001b[1;34m(*args, **kwargs)\u001b[0m\n\u001b[0;32m    209\u001b[0m     \u001b[38;5;28;01melse\u001b[39;00m:\n\u001b[0;32m    210\u001b[0m         kwargs[new_arg_name] \u001b[38;5;241m=\u001b[39m new_arg_value\n\u001b[1;32m--> 211\u001b[0m \u001b[38;5;28;01mreturn\u001b[39;00m func(\u001b[38;5;241m*\u001b[39margs, \u001b[38;5;241m*\u001b[39m\u001b[38;5;241m*\u001b[39mkwargs)\n",
      "File \u001b[1;32m~\\AppData\\Local\\anaconda3\\envs\\dev\\lib\\site-packages\\pandas\\util\\_decorators.py:331\u001b[0m, in \u001b[0;36mdeprecate_nonkeyword_arguments.<locals>.decorate.<locals>.wrapper\u001b[1;34m(*args, **kwargs)\u001b[0m\n\u001b[0;32m    325\u001b[0m \u001b[38;5;28;01mif\u001b[39;00m \u001b[38;5;28mlen\u001b[39m(args) \u001b[38;5;241m>\u001b[39m num_allow_args:\n\u001b[0;32m    326\u001b[0m     warnings\u001b[38;5;241m.\u001b[39mwarn(\n\u001b[0;32m    327\u001b[0m         msg\u001b[38;5;241m.\u001b[39mformat(arguments\u001b[38;5;241m=\u001b[39m_format_argument_list(allow_args)),\n\u001b[0;32m    328\u001b[0m         \u001b[38;5;167;01mFutureWarning\u001b[39;00m,\n\u001b[0;32m    329\u001b[0m         stacklevel\u001b[38;5;241m=\u001b[39mfind_stack_level(),\n\u001b[0;32m    330\u001b[0m     )\n\u001b[1;32m--> 331\u001b[0m \u001b[38;5;28;01mreturn\u001b[39;00m func(\u001b[38;5;241m*\u001b[39margs, \u001b[38;5;241m*\u001b[39m\u001b[38;5;241m*\u001b[39mkwargs)\n",
      "File \u001b[1;32m~\\AppData\\Local\\anaconda3\\envs\\dev\\lib\\site-packages\\pandas\\io\\parsers\\readers.py:950\u001b[0m, in \u001b[0;36mread_csv\u001b[1;34m(filepath_or_buffer, sep, delimiter, header, names, index_col, usecols, squeeze, prefix, mangle_dupe_cols, dtype, engine, converters, true_values, false_values, skipinitialspace, skiprows, skipfooter, nrows, na_values, keep_default_na, na_filter, verbose, skip_blank_lines, parse_dates, infer_datetime_format, keep_date_col, date_parser, dayfirst, cache_dates, iterator, chunksize, compression, thousands, decimal, lineterminator, quotechar, quoting, doublequote, escapechar, comment, encoding, encoding_errors, dialect, error_bad_lines, warn_bad_lines, on_bad_lines, delim_whitespace, low_memory, memory_map, float_precision, storage_options)\u001b[0m\n\u001b[0;32m    935\u001b[0m kwds_defaults \u001b[38;5;241m=\u001b[39m _refine_defaults_read(\n\u001b[0;32m    936\u001b[0m     dialect,\n\u001b[0;32m    937\u001b[0m     delimiter,\n\u001b[1;32m   (...)\u001b[0m\n\u001b[0;32m    946\u001b[0m     defaults\u001b[38;5;241m=\u001b[39m{\u001b[38;5;124m\"\u001b[39m\u001b[38;5;124mdelimiter\u001b[39m\u001b[38;5;124m\"\u001b[39m: \u001b[38;5;124m\"\u001b[39m\u001b[38;5;124m,\u001b[39m\u001b[38;5;124m\"\u001b[39m},\n\u001b[0;32m    947\u001b[0m )\n\u001b[0;32m    948\u001b[0m kwds\u001b[38;5;241m.\u001b[39mupdate(kwds_defaults)\n\u001b[1;32m--> 950\u001b[0m \u001b[38;5;28;01mreturn\u001b[39;00m \u001b[43m_read\u001b[49m\u001b[43m(\u001b[49m\u001b[43mfilepath_or_buffer\u001b[49m\u001b[43m,\u001b[49m\u001b[43m \u001b[49m\u001b[43mkwds\u001b[49m\u001b[43m)\u001b[49m\n",
      "File \u001b[1;32m~\\AppData\\Local\\anaconda3\\envs\\dev\\lib\\site-packages\\pandas\\io\\parsers\\readers.py:605\u001b[0m, in \u001b[0;36m_read\u001b[1;34m(filepath_or_buffer, kwds)\u001b[0m\n\u001b[0;32m    602\u001b[0m _validate_names(kwds\u001b[38;5;241m.\u001b[39mget(\u001b[38;5;124m\"\u001b[39m\u001b[38;5;124mnames\u001b[39m\u001b[38;5;124m\"\u001b[39m, \u001b[38;5;28;01mNone\u001b[39;00m))\n\u001b[0;32m    604\u001b[0m \u001b[38;5;66;03m# Create the parser.\u001b[39;00m\n\u001b[1;32m--> 605\u001b[0m parser \u001b[38;5;241m=\u001b[39m TextFileReader(filepath_or_buffer, \u001b[38;5;241m*\u001b[39m\u001b[38;5;241m*\u001b[39mkwds)\n\u001b[0;32m    607\u001b[0m \u001b[38;5;28;01mif\u001b[39;00m chunksize \u001b[38;5;129;01mor\u001b[39;00m iterator:\n\u001b[0;32m    608\u001b[0m     \u001b[38;5;28;01mreturn\u001b[39;00m parser\n",
      "File \u001b[1;32m~\\AppData\\Local\\anaconda3\\envs\\dev\\lib\\site-packages\\pandas\\io\\parsers\\readers.py:1442\u001b[0m, in \u001b[0;36mTextFileReader.__init__\u001b[1;34m(self, f, engine, **kwds)\u001b[0m\n\u001b[0;32m   1439\u001b[0m     \u001b[38;5;28mself\u001b[39m\u001b[38;5;241m.\u001b[39moptions[\u001b[38;5;124m\"\u001b[39m\u001b[38;5;124mhas_index_names\u001b[39m\u001b[38;5;124m\"\u001b[39m] \u001b[38;5;241m=\u001b[39m kwds[\u001b[38;5;124m\"\u001b[39m\u001b[38;5;124mhas_index_names\u001b[39m\u001b[38;5;124m\"\u001b[39m]\n\u001b[0;32m   1441\u001b[0m \u001b[38;5;28mself\u001b[39m\u001b[38;5;241m.\u001b[39mhandles: IOHandles \u001b[38;5;241m|\u001b[39m \u001b[38;5;28;01mNone\u001b[39;00m \u001b[38;5;241m=\u001b[39m \u001b[38;5;28;01mNone\u001b[39;00m\n\u001b[1;32m-> 1442\u001b[0m \u001b[38;5;28mself\u001b[39m\u001b[38;5;241m.\u001b[39m_engine \u001b[38;5;241m=\u001b[39m \u001b[38;5;28;43mself\u001b[39;49m\u001b[38;5;241;43m.\u001b[39;49m\u001b[43m_make_engine\u001b[49m\u001b[43m(\u001b[49m\u001b[43mf\u001b[49m\u001b[43m,\u001b[49m\u001b[43m \u001b[49m\u001b[38;5;28;43mself\u001b[39;49m\u001b[38;5;241;43m.\u001b[39;49m\u001b[43mengine\u001b[49m\u001b[43m)\u001b[49m\n",
      "File \u001b[1;32m~\\AppData\\Local\\anaconda3\\envs\\dev\\lib\\site-packages\\pandas\\io\\parsers\\readers.py:1735\u001b[0m, in \u001b[0;36mTextFileReader._make_engine\u001b[1;34m(self, f, engine)\u001b[0m\n\u001b[0;32m   1733\u001b[0m     \u001b[38;5;28;01mif\u001b[39;00m \u001b[38;5;124m\"\u001b[39m\u001b[38;5;124mb\u001b[39m\u001b[38;5;124m\"\u001b[39m \u001b[38;5;129;01mnot\u001b[39;00m \u001b[38;5;129;01min\u001b[39;00m mode:\n\u001b[0;32m   1734\u001b[0m         mode \u001b[38;5;241m+\u001b[39m\u001b[38;5;241m=\u001b[39m \u001b[38;5;124m\"\u001b[39m\u001b[38;5;124mb\u001b[39m\u001b[38;5;124m\"\u001b[39m\n\u001b[1;32m-> 1735\u001b[0m \u001b[38;5;28mself\u001b[39m\u001b[38;5;241m.\u001b[39mhandles \u001b[38;5;241m=\u001b[39m \u001b[43mget_handle\u001b[49m\u001b[43m(\u001b[49m\n\u001b[0;32m   1736\u001b[0m \u001b[43m    \u001b[49m\u001b[43mf\u001b[49m\u001b[43m,\u001b[49m\n\u001b[0;32m   1737\u001b[0m \u001b[43m    \u001b[49m\u001b[43mmode\u001b[49m\u001b[43m,\u001b[49m\n\u001b[0;32m   1738\u001b[0m \u001b[43m    \u001b[49m\u001b[43mencoding\u001b[49m\u001b[38;5;241;43m=\u001b[39;49m\u001b[38;5;28;43mself\u001b[39;49m\u001b[38;5;241;43m.\u001b[39;49m\u001b[43moptions\u001b[49m\u001b[38;5;241;43m.\u001b[39;49m\u001b[43mget\u001b[49m\u001b[43m(\u001b[49m\u001b[38;5;124;43m\"\u001b[39;49m\u001b[38;5;124;43mencoding\u001b[39;49m\u001b[38;5;124;43m\"\u001b[39;49m\u001b[43m,\u001b[49m\u001b[43m \u001b[49m\u001b[38;5;28;43;01mNone\u001b[39;49;00m\u001b[43m)\u001b[49m\u001b[43m,\u001b[49m\n\u001b[0;32m   1739\u001b[0m \u001b[43m    \u001b[49m\u001b[43mcompression\u001b[49m\u001b[38;5;241;43m=\u001b[39;49m\u001b[38;5;28;43mself\u001b[39;49m\u001b[38;5;241;43m.\u001b[39;49m\u001b[43moptions\u001b[49m\u001b[38;5;241;43m.\u001b[39;49m\u001b[43mget\u001b[49m\u001b[43m(\u001b[49m\u001b[38;5;124;43m\"\u001b[39;49m\u001b[38;5;124;43mcompression\u001b[39;49m\u001b[38;5;124;43m\"\u001b[39;49m\u001b[43m,\u001b[49m\u001b[43m \u001b[49m\u001b[38;5;28;43;01mNone\u001b[39;49;00m\u001b[43m)\u001b[49m\u001b[43m,\u001b[49m\n\u001b[0;32m   1740\u001b[0m \u001b[43m    \u001b[49m\u001b[43mmemory_map\u001b[49m\u001b[38;5;241;43m=\u001b[39;49m\u001b[38;5;28;43mself\u001b[39;49m\u001b[38;5;241;43m.\u001b[39;49m\u001b[43moptions\u001b[49m\u001b[38;5;241;43m.\u001b[39;49m\u001b[43mget\u001b[49m\u001b[43m(\u001b[49m\u001b[38;5;124;43m\"\u001b[39;49m\u001b[38;5;124;43mmemory_map\u001b[39;49m\u001b[38;5;124;43m\"\u001b[39;49m\u001b[43m,\u001b[49m\u001b[43m \u001b[49m\u001b[38;5;28;43;01mFalse\u001b[39;49;00m\u001b[43m)\u001b[49m\u001b[43m,\u001b[49m\n\u001b[0;32m   1741\u001b[0m \u001b[43m    \u001b[49m\u001b[43mis_text\u001b[49m\u001b[38;5;241;43m=\u001b[39;49m\u001b[43mis_text\u001b[49m\u001b[43m,\u001b[49m\n\u001b[0;32m   1742\u001b[0m \u001b[43m    \u001b[49m\u001b[43merrors\u001b[49m\u001b[38;5;241;43m=\u001b[39;49m\u001b[38;5;28;43mself\u001b[39;49m\u001b[38;5;241;43m.\u001b[39;49m\u001b[43moptions\u001b[49m\u001b[38;5;241;43m.\u001b[39;49m\u001b[43mget\u001b[49m\u001b[43m(\u001b[49m\u001b[38;5;124;43m\"\u001b[39;49m\u001b[38;5;124;43mencoding_errors\u001b[39;49m\u001b[38;5;124;43m\"\u001b[39;49m\u001b[43m,\u001b[49m\u001b[43m \u001b[49m\u001b[38;5;124;43m\"\u001b[39;49m\u001b[38;5;124;43mstrict\u001b[39;49m\u001b[38;5;124;43m\"\u001b[39;49m\u001b[43m)\u001b[49m\u001b[43m,\u001b[49m\n\u001b[0;32m   1743\u001b[0m \u001b[43m    \u001b[49m\u001b[43mstorage_options\u001b[49m\u001b[38;5;241;43m=\u001b[39;49m\u001b[38;5;28;43mself\u001b[39;49m\u001b[38;5;241;43m.\u001b[39;49m\u001b[43moptions\u001b[49m\u001b[38;5;241;43m.\u001b[39;49m\u001b[43mget\u001b[49m\u001b[43m(\u001b[49m\u001b[38;5;124;43m\"\u001b[39;49m\u001b[38;5;124;43mstorage_options\u001b[39;49m\u001b[38;5;124;43m\"\u001b[39;49m\u001b[43m,\u001b[49m\u001b[43m \u001b[49m\u001b[38;5;28;43;01mNone\u001b[39;49;00m\u001b[43m)\u001b[49m\u001b[43m,\u001b[49m\n\u001b[0;32m   1744\u001b[0m \u001b[43m\u001b[49m\u001b[43m)\u001b[49m\n\u001b[0;32m   1745\u001b[0m \u001b[38;5;28;01massert\u001b[39;00m \u001b[38;5;28mself\u001b[39m\u001b[38;5;241m.\u001b[39mhandles \u001b[38;5;129;01mis\u001b[39;00m \u001b[38;5;129;01mnot\u001b[39;00m \u001b[38;5;28;01mNone\u001b[39;00m\n\u001b[0;32m   1746\u001b[0m f \u001b[38;5;241m=\u001b[39m \u001b[38;5;28mself\u001b[39m\u001b[38;5;241m.\u001b[39mhandles\u001b[38;5;241m.\u001b[39mhandle\n",
      "File \u001b[1;32m~\\AppData\\Local\\anaconda3\\envs\\dev\\lib\\site-packages\\pandas\\io\\common.py:856\u001b[0m, in \u001b[0;36mget_handle\u001b[1;34m(path_or_buf, mode, encoding, compression, memory_map, is_text, errors, storage_options)\u001b[0m\n\u001b[0;32m    851\u001b[0m \u001b[38;5;28;01melif\u001b[39;00m \u001b[38;5;28misinstance\u001b[39m(handle, \u001b[38;5;28mstr\u001b[39m):\n\u001b[0;32m    852\u001b[0m     \u001b[38;5;66;03m# Check whether the filename is to be opened in binary mode.\u001b[39;00m\n\u001b[0;32m    853\u001b[0m     \u001b[38;5;66;03m# Binary mode does not support 'encoding' and 'newline'.\u001b[39;00m\n\u001b[0;32m    854\u001b[0m     \u001b[38;5;28;01mif\u001b[39;00m ioargs\u001b[38;5;241m.\u001b[39mencoding \u001b[38;5;129;01mand\u001b[39;00m \u001b[38;5;124m\"\u001b[39m\u001b[38;5;124mb\u001b[39m\u001b[38;5;124m\"\u001b[39m \u001b[38;5;129;01mnot\u001b[39;00m \u001b[38;5;129;01min\u001b[39;00m ioargs\u001b[38;5;241m.\u001b[39mmode:\n\u001b[0;32m    855\u001b[0m         \u001b[38;5;66;03m# Encoding\u001b[39;00m\n\u001b[1;32m--> 856\u001b[0m         handle \u001b[38;5;241m=\u001b[39m \u001b[38;5;28;43mopen\u001b[39;49m\u001b[43m(\u001b[49m\n\u001b[0;32m    857\u001b[0m \u001b[43m            \u001b[49m\u001b[43mhandle\u001b[49m\u001b[43m,\u001b[49m\n\u001b[0;32m    858\u001b[0m \u001b[43m            \u001b[49m\u001b[43mioargs\u001b[49m\u001b[38;5;241;43m.\u001b[39;49m\u001b[43mmode\u001b[49m\u001b[43m,\u001b[49m\n\u001b[0;32m    859\u001b[0m \u001b[43m            \u001b[49m\u001b[43mencoding\u001b[49m\u001b[38;5;241;43m=\u001b[39;49m\u001b[43mioargs\u001b[49m\u001b[38;5;241;43m.\u001b[39;49m\u001b[43mencoding\u001b[49m\u001b[43m,\u001b[49m\n\u001b[0;32m    860\u001b[0m \u001b[43m            \u001b[49m\u001b[43merrors\u001b[49m\u001b[38;5;241;43m=\u001b[39;49m\u001b[43merrors\u001b[49m\u001b[43m,\u001b[49m\n\u001b[0;32m    861\u001b[0m \u001b[43m            \u001b[49m\u001b[43mnewline\u001b[49m\u001b[38;5;241;43m=\u001b[39;49m\u001b[38;5;124;43m\"\u001b[39;49m\u001b[38;5;124;43m\"\u001b[39;49m\u001b[43m,\u001b[49m\n\u001b[0;32m    862\u001b[0m \u001b[43m        \u001b[49m\u001b[43m)\u001b[49m\n\u001b[0;32m    863\u001b[0m     \u001b[38;5;28;01melse\u001b[39;00m:\n\u001b[0;32m    864\u001b[0m         \u001b[38;5;66;03m# Binary mode\u001b[39;00m\n\u001b[0;32m    865\u001b[0m         handle \u001b[38;5;241m=\u001b[39m \u001b[38;5;28mopen\u001b[39m(handle, ioargs\u001b[38;5;241m.\u001b[39mmode)\n",
      "\u001b[1;31mFileNotFoundError\u001b[0m: [Errno 2] No such file or directory: 'Resources\\\\All cities.csv'"
     ]
    }
   ],
   "source": [
    "# Files to Load\n",
    "all_cities = Path(\"Resources/All cities.csv\")\n",
    "rental_cities = Path(\"Resources/cities_Rental.csv\")\n",
    "# Read Home Values and Rentals data files and store into Pandas DataFrames\n",
    "all_cities_df = pd.read_csv(all_cities)\n",
    "rental_cities_df = pd.read_csv(rental_cities)"
   ]
  },
  {
   "cell_type": "code",
   "execution_count": null,
   "id": "a746b6c8",
   "metadata": {},
   "outputs": [],
   "source": [
    "#preview data\n",
    "all_cities_df.head()"
   ]
  },
  {
   "cell_type": "code",
   "execution_count": null,
   "id": "0dcb9b97",
   "metadata": {},
   "outputs": [],
   "source": [
    "# narraw down dataframe to state = PA\n",
    "# Narrow down dataframe to city = Philadelphia\n",
    "PA_home_values_df= all_cities_df.loc[all_cities_df[\"State\"]==\"PA\",:]\n",
    "philadelphia_home_values = PA_home_values_df.loc[PA_home_values_df[\"RegionName\"]==\"Philadelphia\",:]\n",
    "# reduce date to 2016-2022\n",
    "philadelphia_home_values_df = philadelphia_home_values[['RegionID','RegionType','RegionName','State','CountyName', '2016-12-31','2017-12-31','2018-12-31','2019-12-31','2020-12-31','2021-12-31','2022-12-31']]\n",
    "philadelphia_home_values_df.head()"
   ]
  },
  {
   "cell_type": "code",
   "execution_count": null,
   "id": "f7aae04d",
   "metadata": {},
   "outputs": [],
   "source": [
    "# Narrow down dataframe to city = Pittsburgh\n",
    "Pittsburgh_home_values = PA_home_values_df.loc[PA_home_values_df[\"RegionName\"]==\"Pittsburgh\",:]\n",
    "# reduce date to 2016-2022\n",
    "Pittsburgh_home_values_df = Pittsburgh_home_values[['RegionID','RegionType','RegionName','State','CountyName', '2016-12-31','2017-12-31','2018-12-31','2019-12-31','2020-12-31','2021-12-31','2022-12-31']]\n",
    "Pittsburgh_home_values_df.head()"
   ]
  },
  {
   "cell_type": "code",
   "execution_count": null,
   "id": "b1be3b73",
   "metadata": {},
   "outputs": [],
   "source": [
    "# Narrow down dataframe to city = Allentown\n",
    "Allentown_home_values = PA_home_values_df.loc[PA_home_values_df[\"RegionName\"]==\"Allentown\",:]\n",
    "# reduce date to 2016-2022\n",
    "Allentown_home_values_df = Allentown_home_values[['RegionID','RegionType','RegionName','State','CountyName','2016-12-31','2017-12-31','2018-12-31','2019-12-31','2020-12-31','2021-12-31','2022-12-31']]\n",
    "Allentown_home_values_df.head()"
   ]
  },
  {
   "cell_type": "code",
   "execution_count": null,
   "id": "f2dfa1e0",
   "metadata": {},
   "outputs": [],
   "source": [
    "# Narrow down dataframe to city = Erie\n",
    "Erie_home_values = PA_home_values_df.loc[PA_home_values_df[\"RegionName\"]==\"Erie\",:]\n",
    "# reduce date to 2016-2022\n",
    "Erie_home_values_df = Erie_home_values[['RegionID','RegionType','RegionName','State','CountyName', '2016-12-31','2017-12-31','2018-12-31','2019-12-31','2020-12-31','2021-12-31','2022-12-31']]\n",
    "Erie_home_values_df.head()"
   ]
  },
  {
   "cell_type": "code",
   "execution_count": null,
   "id": "29e6da71",
   "metadata": {},
   "outputs": [],
   "source": [
    "#Combine the data into a single dataset\n",
    "all_cities_complete = pd.concat([philadelphia_home_values_df,Pittsburgh_home_values_df,Allentown_home_values_df,Erie_home_values_df])\n",
    "all_cities_complete"
   ]
  },
  {
   "cell_type": "code",
   "execution_count": null,
   "id": "bcafaa54",
   "metadata": {},
   "outputs": [],
   "source": [
    "#Calculate % change in home values from Dec 2016 to Dec 2022\n",
    "homevalue_change_phl = (philadelphia_home_values_df[\"2022-12-31\"] - philadelphia_home_values_df[\"2016-12-31\"])/philadelphia_home_values_df[\"2016-12-31\"] * 100\n",
    "homevalue_change_pitts = (Pittsburgh_home_values_df[\"2022-12-31\"] - Pittsburgh_home_values_df[\"2016-12-31\"])/Pittsburgh_home_values_df[\"2016-12-31\"] * 100\n",
    "homevalue_change_ALL = (Allentown_home_values_df[\"2022-12-31\"] - Allentown_home_values_df[\"2016-12-31\"])/Allentown_home_values_df[\"2016-12-31\"] * 100\n",
    "homevalue_change_Erie = (Erie_home_values_df[\"2022-12-31\"] - Erie_home_values_df[\"2016-12-31\"])/Erie_home_values_df[\"2016-12-31\"] * 100\n",
    "columns_name =[\"RegionName\",\"Percent Change 2015 to 2022\"]\n",
    "all_change=pd.concat([homevalue_change_phl,homevalue_change_pitts,homevalue_change_ALL,homevalue_change_Erie,])\n",
    "all_change\n",
    "all_change_df= pd.DataFrame({\n",
    "     \"Cities\":[\"Philadelphia\",\"Pittsburgh\",\"Allentown\",\"Erie\"],\n",
    "      \"Percent Change\":[\"67%\",\"67%\",\"78%\",\"45%\"]\n",
    "})\n",
    "                        \n",
    "all_change_df"
   ]
  },
  {
   "cell_type": "code",
   "execution_count": null,
   "id": "d52d63e5",
   "metadata": {},
   "outputs": [],
   "source": [
    "#Bar graph \n",
    "percent = [67, 67, 78, 45, ]\n",
    "x_axis = [\"Philadelphia\",\"Pittsburgh\",\"Allentown\",\"Erie\"]\n",
    "plt.bar(x_axis, percent, color='g', alpha=0.5,align=\"center\")\n",
    "tick_locations = [value for value in x_axis]\n",
    "plt.xticks(tick_locations,[\"Philadelphia\", \"Pittsburgh\", \"Allentown\", \"Erie\",])\n",
    "plt.ylim(0, max(percent)+10)\n",
    "plt.title(\"Percent Change from 2016 to 2022\")\n",
    "plt.xlabel(\"Cites\")\n",
    "plt.ylabel(\"Percent Change\")"
   ]
  },
  {
   "cell_type": "code",
   "execution_count": null,
   "id": "99a427b2",
   "metadata": {},
   "outputs": [],
   "source": [
    "#create Line graph\n",
    "x_axis = np.arange(100000, 300000, 30000)\n",
    "phl= [132502,147876,161746,177871,196551,205065,221780] \n",
    "pitts=[136392,149388,165475,174658,198284,215399,228477]\n",
    "allen=[143404,155922,174485,185522,206670,232649,255485]\n",
    "erie=[110468,114128,114141,119285,131714,146265,160337]\n",
    "plt.plot(x_axis, phl,marker ='o', color='blue', label=\"PHL\")\n",
    "plt.plot(x_axis, pitts, marker ='o', color='red', label=\"Pitts\")\n",
    "plt.plot(x_axis, allen, marker ='^', color='Green', label=\"Allen\")\n",
    "plt.plot(x_axis, erie,marker ='^', color='Yellow', label=\"Erie\")\n",
    "plt.xlabel(\"Home Values (2016-2022)\")\n",
    "plt.ylabel(\"Prices\")\n",
    "plt.legend(loc=\"upper left\")\n",
    "plt.title(\"Home values over 2016-2022\")\n",
    "plt.show()"
   ]
  },
  {
   "cell_type": "code",
   "execution_count": null,
   "id": "b94a5d28",
   "metadata": {},
   "outputs": [],
   "source": [
    "#preview data\n",
    "rental_cities_df.head()"
   ]
  },
  {
   "cell_type": "code",
   "execution_count": null,
   "id": "2e088e46",
   "metadata": {},
   "outputs": [],
   "source": [
    "# Narrow down dataframe to State = PA\n",
    "# Narrow down dataframe to city = Philadelphia\n",
    "PA_rent_df= rental_cities_df.loc[all_cities_df[\"State\"]==\"PA\",:]\n",
    "philadelphia_rent = PA_rent_df.loc[PA_rent_df[\"RegionName\"]==\"Philadelphia\",:]\n",
    "# reduce date to 2015-2023\n",
    "philadelphia_rent_df = philadelphia_rent[['RegionID','RegionType','RegionName','State','CountyName','2016-12-31','2017-12-31','2018-12-31','2019-12-31','2020-12-31','2021-12-31','2022-12-31']]\n",
    "philadelphia_rent_df.head()"
   ]
  },
  {
   "cell_type": "code",
   "execution_count": null,
   "id": "fe8bb57a",
   "metadata": {},
   "outputs": [],
   "source": [
    "# Narrow down dataframe to city = Allentown\n",
    "Allentown_rental = PA_rent_df.loc[PA_rent_df[\"RegionName\"]==\"Allentown\",:]\n",
    "# reduce date to 2015-2023\n",
    "Allentown_rental_df = Allentown_rental[['RegionID','RegionType','RegionName','State','CountyName','2016-12-31','2017-12-31','2018-12-31','2019-12-31','2020-12-31','2021-12-31','2022-12-31']]\n",
    "Allentown_rental_df.head()"
   ]
  },
  {
   "cell_type": "code",
   "execution_count": null,
   "id": "8a1b9545",
   "metadata": {},
   "outputs": [],
   "source": [
    "# Narrow down dataframe to city = Erie\n",
    "Erie_rental = PA_rent_df.loc[PA_rent_df[\"RegionName\"]==\"Erie\",:]\n",
    "# reduce date to 2015-2023\n",
    "Erie_rental_df = Erie_rental[['RegionID','RegionType','RegionName','State','CountyName','2016-12-31','2017-12-31','2018-12-31','2019-12-31','2020-12-31','2021-12-31','2022-12-31']]\n",
    "Erie_rental_df.head()"
   ]
  },
  {
   "cell_type": "code",
   "execution_count": null,
   "id": "68d32497",
   "metadata": {},
   "outputs": [],
   "source": [
    "# Narrow down dataframe to city = Pittsburgh\n",
    "Pittsburgh_rental = PA_rent_df.loc[PA_rent_df[\"RegionName\"]==\"Pittsburgh\",:]\n",
    "# reduce date to 2015-2023\n",
    "Pittsburgh_rental_df = Pittsburgh_rental[['RegionID','RegionType','RegionName','State','CountyName','2016-12-31','2017-12-31','2018-12-31','2019-12-31','2020-12-31','2021-12-31','2022-12-31']]\n",
    "Pittsburgh_rental_df.head()"
   ]
  },
  {
   "cell_type": "code",
   "execution_count": null,
   "id": "8001a0ab",
   "metadata": {},
   "outputs": [],
   "source": [
    "#Combine the data into a single dataset\n",
    "all_rentals_complete = pd.concat([philadelphia_rent_df,Pittsburgh_rental_df,Allentown_rental_df,Erie_rental_df])\n",
    "all_rentals_complete"
   ]
  },
  {
   "cell_type": "code",
   "execution_count": null,
   "id": "99fc4393",
   "metadata": {},
   "outputs": [],
   "source": [
    "#Calculate % change in home values from Dec 2015 to Dec 2022\n",
    "rental_change_phl = (philadelphia_rent_df[\"2022-12-31\"] - philadelphia_rent_df[\"2016-12-31\"])/philadelphia_rent_df[\"2016-12-31\"] * 100\n",
    "rental_change_pitts = (Pittsburgh_rental_df[\"2022-12-31\"] - Pittsburgh_rental_df[\"2016-12-31\"])/Pittsburgh_rental_df[\"2016-12-31\"] * 100\n",
    "rental_change_ALL = (Allentown_rental_df[\"2022-12-31\"] - Allentown_rental_df[\"2016-12-31\"])/Allentown_rental_df[\"2016-12-31\"] * 100\n",
    "rental_change_Erie = (Erie_rental_df[\"2022-12-31\"] - Erie_rental_df[\"2016-12-31\"])/Erie_rental_df[\"2016-12-31\"] * 100\n",
    "all_change=pd.concat([rental_change_phl,rental_change_pitts,rental_change_ALL,rental_change_Erie,])\n",
    "all_change_df= pd.DataFrame({\n",
    "     \"Cities\":[\"Philadelphia\",\"Pittsburgh\",\"Allentown\",\"Erie\"],\n",
    "      \"Percent Change\":[\"25%\",\"32%\",\"53%\",\"33%\"]\n",
    "})\n",
    "                    \n",
    "all_change_df                   "
   ]
  },
  {
   "cell_type": "code",
   "execution_count": null,
   "id": "aaa60d84",
   "metadata": {},
   "outputs": [],
   "source": [
    "#Bar graph \n",
    "percent_1 = [25, 32, 53, 33, ]\n",
    "x_axis_1 = [\"Philadelphia\",\"Pittsburgh\",\"Allentown\",\"Erie\"]\n",
    "plt.bar(x_axis_1, percent_1, color='b', alpha=0.5, align=\"center\")\n",
    "tick_locations_1 = [value for value in x_axis_1]\n",
    "plt.xticks(tick_locations,[\"Philadelphia\", \"Pittsburgh\", \"Allentown\", \"Erie\",])\n",
    "plt.ylim(0, max(percent)+10)\n",
    "plt.title(\"Percent Change from 2015 to 2022\")\n",
    "plt.xlabel(\"Cites\")\n",
    "plt.ylabel(\"Percent Change\")"
   ]
  },
  {
   "cell_type": "code",
   "execution_count": null,
   "id": "81a34546",
   "metadata": {},
   "outputs": [],
   "source": [
    "#create Line graph for rent\n",
    "x_axis_1 = np.arange(700, 3500, 400)\n",
    "phl= [1380,1420,1469,1520,1526,1657,1730] \n",
    "pitts=[1092,1138,1184,1225,1246,1350,1442]\n",
    "allen=[1090,1156,1191,1255,1365,1597,1668]\n",
    "erie=[723,756,773,773,806,876,963]\n",
    "plt.plot(x_axis_1, phl,marker ='o', color='blue', label=\"PHL\")\n",
    "plt.plot(x_axis_1, pitts, marker ='o', color='red', label=\"Pitts\")\n",
    "plt.plot(x_axis_1, allen, marker ='^', color='Green', label=\"Allen\")\n",
    "plt.plot(x_axis_1, erie,marker ='^', color='Yellow', label=\"Erie\")\n",
    "plt.xlabel(\"Rent Prices (2016-2022)\")\n",
    "plt.ylabel(\"Prices\")\n",
    "plt.legend(loc=\"upper left\")\n",
    "plt.title(\"Rent Prices over 2016-2022\")\n",
    "\n",
    "plt.show()"
   ]
  },
  {
   "cell_type": "markdown",
   "id": "451829a0",
   "metadata": {},
   "source": [
    "## Occupancy rates in Philadelphia and rentals as a percentage of household income (Stephen)"
   ]
  },
  {
   "cell_type": "code",
   "execution_count": null,
   "id": "43d8a7d4",
   "metadata": {},
   "outputs": [],
   "source": [
    "Housing_2021=\"Resources/2021PhilaHousing.csv\"\n",
    "Housing_2019=\"Resources/2019PhilaHousing.csv\"\n",
    "Housing_2018=\"Resources/2018PhilaHousing.csv\"\n",
    "Housing_2017=\"Resources/2017PhilaHousing.csv\"\n",
    "Housing_2016=\"Resources/2016PhilaHousing.csv\"\n",
    "Housing_2015=\"Resources/2015PhilaHousing.csv\"\n",
    "Housing_2014=\"Resources/2014PhilaHousing.csv\"\n",
    "Housing_2013=\"Resources/2013PhilaHousing.csv\"\n",
    "Housing_2012=\"Resources/2012PhilaHousing.csv\"\n",
    "Housing_2011=\"Resources/2011PhilaHousing.csv\"\n",
    "Housing_2010=\"Resources/2010PhilaHousing.csv\""
   ]
  },
  {
   "cell_type": "code",
   "execution_count": null,
   "id": "1701b6f8",
   "metadata": {},
   "outputs": [],
   "source": [
    "housing_21=pd.read_csv(Housing_2021)\n",
    "housing_19=pd.read_csv(Housing_2019)\n",
    "housing_18=pd.read_csv(Housing_2018)\n",
    "housing_17=pd.read_csv(Housing_2017)\n",
    "housing_16=pd.read_csv(Housing_2016)\n",
    "housing_15=pd.read_csv(Housing_2015)\n",
    "housing_14=pd.read_csv(Housing_2014)\n",
    "housing_13=pd.read_csv(Housing_2013)\n",
    "housing_12=pd.read_csv(Housing_2012)\n",
    "housing_11=pd.read_csv(Housing_2011)\n",
    "housing_10=pd.read_csv(Housing_2010)"
   ]
  },
  {
   "cell_type": "code",
   "execution_count": null,
   "id": "3ebfe9bb",
   "metadata": {},
   "outputs": [],
   "source": [
    "medians=pd.DataFrame({'2010':[housing_10['Philadelphia city, Pennsylvania!!Estimate'].iloc[147]],\n",
    "'2011':[float(housing_11['Philadelphia city, Pennsylvania!!Estimate'].iloc[147])],\n",
    "'2012':[float(housing_12['Philadelphia city, Pennsylvania!!Estimate'].iloc[147])],\n",
    "'2013':[float(housing_13['Philadelphia city, Pennsylvania!!Estimate'].iloc[147])],\n",
    "'2014':[float(housing_14['Philadelphia city, Pennsylvania!!Estimate'].iloc[147])],\n",
    "'2015':[float(housing_15['Philadelphia city, Pennsylvania!!Estimate'].iloc[149])],\n",
    "'2016':[float(housing_16['Philadelphia city, Pennsylvania!!Estimate'].iloc[149])],\n",
    "'2017':[float(housing_17['Philadelphia city, Pennsylvania!!Estimate'].iloc[149])],\n",
    "'2018':[float(housing_18['Philadelphia city, Pennsylvania!!Estimate'].iloc[149].replace(',',''))],\n",
    "'2019':[float(housing_19['Philadelphia city, Pennsylvania!!Estimate'].iloc[149].replace(',',''))],\n",
    "'2021':[float(housing_21['Philadelphia city, Pennsylvania!!Estimate'].iloc[149].replace(',',''))]})\n",
    "#turningmydataframebackintolists=pd.to_numeric(medians.columns).tolist()\n",
    "#becauseplottingthedataframewasntworking=medians.iloc[0].tolist()\n",
    "#plt.plot(turningmydataframebackintolists,becauseplottingthedataframewasntworking)\n",
    "#plt.title(\"Change in Median Rental Price in Philadelphia 2010-2021\")\n",
    "medians"
   ]
  },
  {
   "cell_type": "code",
   "execution_count": null,
   "id": "6c4c91d3",
   "metadata": {},
   "outputs": [],
   "source": [
    "#Isolate Occupancy Data\n",
    "Occupancy21=housing_21.iloc[1:15]\n",
    "Occupancy19=housing_19.iloc[1:15]\n",
    "Occupancy18=housing_18.iloc[1:15]\n",
    "Occupancy17=housing_17.iloc[1:15]\n",
    "Occupancy16=housing_16.iloc[1:15]\n",
    "Occupancy15=housing_15.iloc[1:15]\n",
    "Occupancy14=housing_14.iloc[1:15]\n",
    "Occupancy13=housing_13.iloc[1:15]\n",
    "Occupancy12=housing_12.iloc[1:15]\n",
    "Occupancy11=housing_11.iloc[1:15]\n",
    "Occupancy10=housing_10.iloc[1:15]"
   ]
  },
  {
   "cell_type": "code",
   "execution_count": null,
   "id": "5d6222c0",
   "metadata": {},
   "outputs": [],
   "source": [
    "O21=Occupancy21.drop(['Philadelphia city, Pennsylvania!!Margin of Error', 'Philadelphia city, Pennsylvania!!Percent',\n",
    "                      'Philadelphia city, Pennsylvania!!Percent Margin of Error'], axis=1)\n",
    "O19=Occupancy19.drop(['Philadelphia city, Pennsylvania!!Margin of Error', 'Philadelphia city, Pennsylvania!!Percent',\n",
    "                      'Philadelphia city, Pennsylvania!!Percent Margin of Error'], axis=1)\n",
    "O18=Occupancy18.drop(['Philadelphia city, Pennsylvania!!Margin of Error', 'Philadelphia city, Pennsylvania!!Percent',\n",
    "                      'Philadelphia city, Pennsylvania!!Percent Margin of Error'], axis=1)\n",
    "O17=Occupancy17.drop(['Philadelphia city, Pennsylvania!!Margin of Error', 'Philadelphia city, Pennsylvania!!Percent',\n",
    "                      'Philadelphia city, Pennsylvania!!Percent Margin of Error'], axis=1)\n",
    "O16=Occupancy16.drop(['Philadelphia city, Pennsylvania!!Margin of Error', 'Philadelphia city, Pennsylvania!!Percent',\n",
    "                      'Philadelphia city, Pennsylvania!!Percent Margin of Error'], axis=1)\n",
    "O15=Occupancy15.drop(['Philadelphia city, Pennsylvania!!Margin of Error', 'Philadelphia city, Pennsylvania!!Percent',\n",
    "                      'Philadelphia city, Pennsylvania!!Percent Margin of Error'], axis=1)\n",
    "O14=Occupancy14.drop(['Philadelphia city, Pennsylvania!!Margin of Error', 'Philadelphia city, Pennsylvania!!Percent',\n",
    "                      'Philadelphia city, Pennsylvania!!Percent Margin of Error'], axis=1)\n",
    "O13=Occupancy13.drop(['Philadelphia city, Pennsylvania!!Margin of Error', 'Philadelphia city, Pennsylvania!!Percent',\n",
    "                      'Philadelphia city, Pennsylvania!!Percent Margin of Error'], axis=1)\n",
    "O12=Occupancy12.drop(['Philadelphia city, Pennsylvania!!Margin of Error', 'Philadelphia city, Pennsylvania!!Percent',\n",
    "                      'Philadelphia city, Pennsylvania!!Percent Margin of Error'], axis=1)\n",
    "O11=Occupancy11.drop(['Philadelphia city, Pennsylvania!!Margin of Error', 'Philadelphia city, Pennsylvania!!Percent',\n",
    "                      'Philadelphia city, Pennsylvania!!Percent Margin of Error'], axis=1)\n",
    "O10=Occupancy10.drop(['Philadelphia city, Pennsylvania!!Estimate Margin of Error', 'Philadelphia city, Pennsylvania!!Percent',\n",
    "                      'Philadelphia city, Pennsylvania!!Percent Margin of Error'], axis=1)"
   ]
  },
  {
   "cell_type": "code",
   "execution_count": null,
   "id": "79ea6d4b",
   "metadata": {},
   "outputs": [],
   "source": [
    "O10=O10.rename({'Philadelphia city, Pennsylvania!!Estimate':'2010 Est.', \n",
    "                'Philadelphia city, Pennsylvania!!Percent':'2010 Percent'},axis='columns')\n",
    "O11=O11.rename({'Philadelphia city, Pennsylvania!!Estimate':'2011 Est.', \n",
    "                'Philadelphia city, Pennsylvania!!Percent':'2011 Percent'},axis='columns')\n",
    "O12=O12.rename({'Philadelphia city, Pennsylvania!!Estimate':'2012 Est.', \n",
    "                'Philadelphia city, Pennsylvania!!Percent':'2012 Percent'},axis='columns')\n",
    "O13=O13.rename({'Philadelphia city, Pennsylvania!!Estimate':'2013 Est.', \n",
    "                'Philadelphia city, Pennsylvania!!Percent':'2013 Percent'},axis='columns')\n",
    "O14=O14.rename({'Philadelphia city, Pennsylvania!!Estimate':'2014 Est.', \n",
    "                'Philadelphia city, Pennsylvania!!Percent':'2014 Percent'},axis='columns')\n",
    "O15=O15.rename({'Philadelphia city, Pennsylvania!!Estimate':'2015 Est.', \n",
    "                'Philadelphia city, Pennsylvania!!Percent':'2015 Percent'},axis='columns')\n",
    "O16=O16.rename({'Philadelphia city, Pennsylvania!!Estimate':'2016 Est.', \n",
    "                'Philadelphia city, Pennsylvania!!Percent':'2016 Percent'},axis='columns')\n",
    "O17=O17.rename({'Philadelphia city, Pennsylvania!!Estimate':'2017 Est.', \n",
    "                'Philadelphia city, Pennsylvania!!Percent':'2017 Percent'},axis='columns')\n",
    "O18=O18.rename({'Philadelphia city, Pennsylvania!!Estimate':'2018 Est.', \n",
    "                'Philadelphia city, Pennsylvania!!Percent':'2018 Percent'},axis='columns')\n",
    "O19=O19.rename({'Philadelphia city, Pennsylvania!!Estimate':'2019 Est.', \n",
    "                'Philadelphia city, Pennsylvania!!Percent':'2019 Percent'},axis='columns')\n",
    "O21=O21.rename({'Philadelphia city, Pennsylvania!!Estimate':'2021 Est.', \n",
    "                'Philadelphia city, Pennsylvania!!Percent':'2021 Percent'},axis='columns')"
   ]
  },
  {
   "cell_type": "code",
   "execution_count": null,
   "id": "ce9861c6",
   "metadata": {},
   "outputs": [],
   "source": [
    "O10=O10['2010 Est.'].str.replace(',','')\n",
    "O11=O11['2011 Est.'].str.replace(',','')\n",
    "O12=O12['2012 Est.'].str.replace(',','')\n",
    "O13=O13['2013 Est.'].str.replace(',','')\n",
    "O14=O14['2014 Est.'].str.replace(',','')\n",
    "O15=O15['2015 Est.'].str.replace(',','')\n",
    "O16=O16['2016 Est.'].str.replace(',','')\n",
    "O17=O17['2017 Est.'].str.replace(',','')\n",
    "O18=O18['2018 Est.'].str.replace(',','')\n",
    "O19=O19['2019 Est.'].str.replace(',','')\n",
    "O21=O21['2021 Est.'].str.replace(',','')"
   ]
  },
  {
   "cell_type": "code",
   "execution_count": null,
   "id": "4e0c0dd3",
   "metadata": {},
   "outputs": [],
   "source": [
    "O10=O10.astype(float)\n",
    "O11=O11.astype(float)\n",
    "O12=O12.astype(float)\n",
    "O13=O13.astype(float)\n",
    "O14=O14.astype(float)\n",
    "O15=O15.astype(float)\n",
    "O16=O16.astype(float)\n",
    "O17=O17.astype(float)\n",
    "O18=O18.astype(float)\n",
    "O19=O19.astype(float)\n",
    "O21=O21.astype(float)"
   ]
  },
  {
   "cell_type": "code",
   "execution_count": null,
   "id": "59a0f428",
   "metadata": {},
   "outputs": [],
   "source": [
    "all_occupancy=pd.concat([O10,O11,O12,O13,O14,O15,O16,O17,O18,O19,O21], axis=1)\n",
    "plot_occupancy=all_occupancy.iloc[0:3]"
   ]
  },
  {
   "cell_type": "code",
   "execution_count": null,
   "id": "ccdf2ccf",
   "metadata": {},
   "outputs": [],
   "source": [
    "plot_occupancy.T.plot(kind='line')\n",
    "plt.legend([\"Total Units\",\"Occupied Units\",\"Vacant Units\"])\n",
    "plt.title(\"Occupied vs. Vacant Units\")\n",
    "annotation1=\"2021 Vacancy Rate=9.8%\"\n",
    "annotation2=\"2010 Vacancy Rate=14.1%\"\n",
    "plt.annotate(annotation1,(6,112000),fontsize=10,color='green')\n",
    "plt.annotate(annotation2,(-.25,125000),fontsize=10,color='green')"
   ]
  },
  {
   "cell_type": "code",
   "execution_count": null,
   "id": "f9999f53",
   "metadata": {},
   "outputs": [],
   "source": [
    "#Isolate Gross Rent Data\n",
    "igrp10=housing_10.iloc[150:158]\n",
    "igrp11=housing_11.iloc[150:158]\n",
    "igrp12=housing_12.iloc[150:158]\n",
    "igrp13=housing_13.iloc[150:158]\n",
    "igrp14=housing_14.iloc[150:158]\n",
    "igrp15=housing_15.iloc[152:160]\n",
    "igrp16=housing_16.iloc[152:160]\n",
    "igrp17=housing_17.iloc[152:160]\n",
    "igrp18=housing_18.iloc[152:160]\n",
    "igrp19=housing_19.iloc[152:160]\n",
    "igrp21=housing_21.iloc[152:160]"
   ]
  },
  {
   "cell_type": "code",
   "execution_count": null,
   "id": "e6ea148e",
   "metadata": {},
   "outputs": [],
   "source": [
    "igrp21"
   ]
  },
  {
   "cell_type": "code",
   "execution_count": null,
   "id": "89236c51",
   "metadata": {},
   "outputs": [],
   "source": [
    "igrp10=igrp10.rename({'Philadelphia city, Pennsylvania!!Estimate':'Census Estimate 2010',\n",
    "                      'Philadelphia city, Pennsylvania!!Percent':'2010 Percent' }, axis='columns')\n",
    "igrp11=igrp11.rename({'Philadelphia city, Pennsylvania!!Estimate':'Census Estimate 2011',\n",
    "                     'Philadelphia city, Pennsylvania!!Percent':'2011 Percent' }, axis='columns')\n",
    "igrp12=igrp12.rename({'Philadelphia city, Pennsylvania!!Estimate':'Census Estimate 2012',\n",
    "                      'Philadelphia city, Pennsylvania!!Percent':'2012 Percent' }, axis='columns')\n",
    "igrp13=igrp13.rename({'Philadelphia city, Pennsylvania!!Estimate':'Census Estimate 2013',\n",
    "                      'Philadelphia city, Pennsylvania!!Percent':'2013 Percent' }, axis='columns')\n",
    "igrp14=igrp14.rename({'Philadelphia city, Pennsylvania!!Estimate':'Census Estimate 2014',\n",
    "                      'Philadelphia city, Pennsylvania!!Percent':'2014 Percent' }, axis='columns')\n",
    "igrp15=igrp15.rename({'Philadelphia city, Pennsylvania!!Estimate':'Census Estimate 2015',\n",
    "                      'Philadelphia city, Pennsylvania!!Percent':'2015 Percent' }, axis='columns')\n",
    "igrp16=igrp16.rename({'Philadelphia city, Pennsylvania!!Estimate':'Census Estimate 2016',\n",
    "                      'Philadelphia city, Pennsylvania!!Percent':'2016 Percent' }, axis='columns')\n",
    "igrp17=igrp17.rename({'Philadelphia city, Pennsylvania!!Estimate':'Census Estimate 2017',\n",
    "                      'Philadelphia city, Pennsylvania!!Percent':'2017 Percent' }, axis='columns')\n",
    "igrp18=igrp18.rename({'Philadelphia city, Pennsylvania!!Estimate':'Census Estimate 2018',\n",
    "                      'Philadelphia city, Pennsylvania!!Percent':'2018 Percent' }, axis='columns')\n",
    "igrp19=igrp19.rename({'Philadelphia city, Pennsylvania!!Estimate':'Census Estimate 2019',\n",
    "                      'Philadelphia city, Pennsylvania!!Percent':'2019 Percent' }, axis='columns')\n",
    "igrp21=igrp21.rename({'Philadelphia city, Pennsylvania!!Estimate':'Census Estimate 2021',\n",
    "                      'Philadelphia city, Pennsylvania!!Percent':'2021 Percent' }, axis='columns')"
   ]
  },
  {
   "cell_type": "code",
   "execution_count": null,
   "id": "221354de",
   "metadata": {},
   "outputs": [],
   "source": [
    "igrp21=igrp21.drop(['Philadelphia city, Pennsylvania!!Margin of Error','Philadelphia city, Pennsylvania!!Percent Margin of Error'], axis=1)\n",
    "igrp19=igrp19.drop(['Philadelphia city, Pennsylvania!!Margin of Error','Philadelphia city, Pennsylvania!!Percent Margin of Error'], axis=1)\n",
    "igrp18=igrp18.drop(['Philadelphia city, Pennsylvania!!Margin of Error','Philadelphia city, Pennsylvania!!Percent Margin of Error'], axis=1)\n",
    "igrp17=igrp17.drop(['Philadelphia city, Pennsylvania!!Margin of Error','Philadelphia city, Pennsylvania!!Percent Margin of Error'], axis=1)\n",
    "igrp16=igrp16.drop(['Philadelphia city, Pennsylvania!!Margin of Error','Philadelphia city, Pennsylvania!!Percent Margin of Error'], axis=1)\n",
    "igrp15=igrp15.drop(['Philadelphia city, Pennsylvania!!Margin of Error','Philadelphia city, Pennsylvania!!Percent Margin of Error'], axis=1)\n",
    "igrp14=igrp14.drop(['Philadelphia city, Pennsylvania!!Margin of Error','Philadelphia city, Pennsylvania!!Percent Margin of Error'], axis=1)\n",
    "igrp13=igrp13.drop(['Philadelphia city, Pennsylvania!!Margin of Error','Philadelphia city, Pennsylvania!!Percent Margin of Error'], axis=1)\n",
    "igrp12=igrp12.drop(['Philadelphia city, Pennsylvania!!Margin of Error','Philadelphia city, Pennsylvania!!Percent Margin of Error'], axis=1)\n",
    "igrp11=igrp11.drop(['Philadelphia city, Pennsylvania!!Margin of Error','Philadelphia city, Pennsylvania!!Percent Margin of Error'], axis=1)\n",
    "igrp10=igrp10.drop(['Philadelphia city, Pennsylvania!!Estimate Margin of Error','Philadelphia city, Pennsylvania!!Percent Margin of Error'], axis=1)"
   ]
  },
  {
   "cell_type": "code",
   "execution_count": null,
   "id": "20146b82",
   "metadata": {},
   "outputs": [],
   "source": [
    "def strip_strings(s):\n",
    "    return s.strip()\n",
    "igrp10['Label (Grouping)'] = igrp10['Label (Grouping)'].apply(strip_strings)\n",
    "igrp11['Label (Grouping)'] = igrp11['Label (Grouping)'].apply(strip_strings)\n",
    "igrp12['Label (Grouping)'] = igrp12['Label (Grouping)'].apply(strip_strings)\n",
    "igrp13['Label (Grouping)'] = igrp13['Label (Grouping)'].apply(strip_strings)\n",
    "igrp14['Label (Grouping)'] = igrp14['Label (Grouping)'].apply(strip_strings)\n",
    "igrp15['Label (Grouping)'] = igrp15['Label (Grouping)'].apply(strip_strings)\n",
    "igrp16['Label (Grouping)'] = igrp16['Label (Grouping)'].apply(strip_strings)\n",
    "igrp17['Label (Grouping)'] = igrp17['Label (Grouping)'].apply(strip_strings)\n",
    "igrp18['Label (Grouping)'] = igrp18['Label (Grouping)'].apply(strip_strings)\n",
    "igrp19['Label (Grouping)'] = igrp19['Label (Grouping)'].apply(strip_strings)\n",
    "igrp21['Label (Grouping)'] = igrp21['Label (Grouping)'].apply(strip_strings)"
   ]
  },
  {
   "cell_type": "code",
   "execution_count": null,
   "id": "62ed6505",
   "metadata": {},
   "outputs": [],
   "source": [
    "#Merge Gross Rent to one dataframe\n",
    "merge=igrp10.merge(igrp11, on='Label (Grouping)', how='left')\n",
    "merge=merge.merge(igrp12, on='Label (Grouping)', how='left')\n",
    "merge=merge.merge(igrp13, on='Label (Grouping)', how='left')\n",
    "merge=merge.merge(igrp14, on='Label (Grouping)', how='left')\n",
    "merge=merge.merge(igrp15, on='Label (Grouping)', how='left')\n",
    "merge=merge.merge(igrp16, on='Label (Grouping)', how='left')\n",
    "merge=merge.merge(igrp17, on='Label (Grouping)', how='left')\n",
    "merge=merge.merge(igrp18, on='Label (Grouping)', how='left')\n",
    "merge=merge.merge(igrp19, on='Label (Grouping)', how='left')\n",
    "all_merge=merge.merge(igrp21, on='Label (Grouping)', how='left')"
   ]
  },
  {
   "cell_type": "code",
   "execution_count": null,
   "id": "399a6e7e",
   "metadata": {},
   "outputs": [],
   "source": [
    "#New dataframe only tracking yearly percents\n",
    "Percents_only=all_merge[['Label (Grouping)','2010 Percent', '2011 Percent', '2012 Percent', '2013 Percent', '2014 Percent', '2015 Percent', '2016 Percent',\n",
    "          '2017 Percent', '2018 Percent', '2019 Percent', '2021 Percent']]\n",
    "Percents_only"
   ]
  },
  {
   "cell_type": "code",
   "execution_count": null,
   "id": "b934fc45",
   "metadata": {},
   "outputs": [],
   "source": [
    "strip21=Percents_only['2021 Percent'].str.replace(',','')\n",
    "strip19=Percents_only['2019 Percent'].str.replace(',','')\n",
    "strip18=Percents_only['2018 Percent'].str.replace(',','')\n",
    "strip17=Percents_only['2017 Percent'].str.replace(',','')\n",
    "strip16=Percents_only['2016 Percent'].str.replace(',','')\n",
    "strip15=Percents_only['2015 Percent'].str.replace(',','')\n",
    "strip14=Percents_only['2014 Percent'].str.replace(',','')\n",
    "strip13=Percents_only['2013 Percent'].str.replace(',','')\n",
    "strip12=Percents_only['2012 Percent'].str.replace(',','')\n",
    "strip11=Percents_only['2011 Percent'].str.replace(',','')\n",
    "strip10=Percents_only['2010 Percent'].str.replace(',','')\n",
    "\n",
    "flt10=strip10.str.replace('%','')\n",
    "flt10=flt10[0:7].astype(float)"
   ]
  },
  {
   "cell_type": "code",
   "execution_count": null,
   "id": "8503196b",
   "metadata": {},
   "outputs": [],
   "source": [
    "flt21=strip21.str.replace('%','')\n",
    "flt19=strip19.str.replace('%','')\n",
    "flt18=strip18.str.replace('%','')\n",
    "flt17=strip17.str.replace('%','')\n",
    "flt16=strip16.str.replace('%','')\n",
    "flt15=strip15.str.replace('%','')\n",
    "flt14=strip14.str.replace('%','')\n",
    "flt13=strip13.str.replace('%','')\n",
    "flt12=strip12.str.replace('%','')\n",
    "flt11=strip11.str.replace('%','')\n",
    "flt11=flt11[0:7].astype(float)\n",
    "flt12=flt12[0:7].astype(float)\n",
    "flt13=flt13[0:7].astype(float)\n",
    "flt14=flt14[0:7].astype(float)\n",
    "flt15=flt15[0:7].astype(float)\n",
    "flt16=flt16[0:7].astype(float)\n",
    "flt17=flt17[0:7].astype(float)\n",
    "flt18=flt18[0:7].astype(float)\n",
    "flt19=flt19[0:7].astype(float)\n",
    "flt21=flt21[0:7].astype(float)"
   ]
  },
  {
   "cell_type": "code",
   "execution_count": null,
   "id": "97523ee0",
   "metadata": {},
   "outputs": [],
   "source": [
    "df_grp=pd.concat([flt10,flt11, flt12,flt13, flt14, flt15, flt16, flt17, flt18, flt19, flt21], axis=1)\n",
    "df_grp"
   ]
  },
  {
   "cell_type": "code",
   "execution_count": null,
   "id": "c8bf968b",
   "metadata": {},
   "outputs": [],
   "source": [
    "grp_df=df_grp.iloc[1:7]\n",
    "years=['2010','2011','2012','2013','2014','2015','2016','2017','2018','2019','2021']\n",
    "#plt.plot(years, grp_df.T[6], color='pink', label='>35%')\n",
    "#plt.plot(years, grp_df.T[5], color='purple', label='30-35%')\n",
    "#plt.plot(years, grp_df.T[4], color='orange', label='25-30%')\n",
    "#plt.plot(years, grp_df.T[3], color='red', label='20-25%')\n",
    "#plt.plot(years, grp_df.T[2], color='blue', label='15-20%')\n",
    "#plt.plot(years, grp_df.T[1], color='green', label='<15%')"
   ]
  },
  {
   "cell_type": "code",
   "execution_count": null,
   "id": "cbe5d5e4",
   "metadata": {},
   "outputs": [],
   "source": [
    "#combining groups to make chart for readable\n",
    "group15_25=grp_df.iloc[1:3].sum()\n",
    "group25_35=grp_df.iloc[3:5].sum()"
   ]
  },
  {
   "cell_type": "code",
   "execution_count": null,
   "id": "ddf05720",
   "metadata": {},
   "outputs": [],
   "source": [
    "years=['2010','2011','2012','2013','2014','2015','2016','2017','2018','2019','2021']\n",
    "plt.plot(years, grp_df.T[6], color='pink', label='>35%')\n",
    "plt.plot(years, group25_35, color='purple', label='25-35%')\n",
    "plt.plot(years, group15_25, color='red', label='15-25%')\n",
    "plt.plot(years, grp_df.T[1], color='green', label='<15%')\n",
    "\n",
    "plt.annotate(annotation2,(-.25,125000),fontsize=10,color='green')\n",
    "\n",
    "plt.legend(loc='best')\n",
    "plt.title(\"Gross Rent as Percentage of Household Income\")\n",
    "plt.xlabel(\"Year\")\n",
    "plt.ylabel(\"Percent of Households\")\n",
    "annotation3=\"Percent Income\"\n",
    "plt.annotate(annotation3,(8,36),color='black')\n",
    "plt.show()"
   ]
  },
  {
   "cell_type": "markdown",
   "id": "d57b0635",
   "metadata": {},
   "source": [
    "## Household income by zipcode (Katy)"
   ]
  },
  {
   "cell_type": "code",
   "execution_count": null,
   "id": "453576ed",
   "metadata": {},
   "outputs": [],
   "source": [
    "# Demographic data files not used in presentation\n",
    "\n",
    "dem_housing_info_2021_path = \"../resources/dem_housing_info_2021.csv\"\n",
    "dem_housing_info_2020_path = \"../resources/dem_housing_info_2020.csv\"\n",
    "dem_housing_info_2019_path = \"../resources/dem_housing_info_2019.csv\"\n",
    "dem_housing_info_2018_path = \"../resources/dem_housing_info_2018.csv\"\n",
    "dem_housing_info_2017_path = \"../resources/dem_housing_info_2017.csv\"\n",
    "dem_housing_info_2016_path = \"../resources/dem_housing_info_2016.csv\"\n",
    "dem_housing_info_2015_path = \"../resources/dem_housing_info_2015.csv\"\n",
    "\n",
    "# Read the data \n",
    "dem_housing_info_2021=pd.read_csv(dem_housing_info_2021_path)\n",
    "dem_housing_info_2020=pd.read_csv(dem_housing_info_2020_path)\n",
    "dem_housing_info_2019=pd.read_csv(dem_housing_info_2019_path)\n",
    "dem_housing_info_2018=pd.read_csv(dem_housing_info_2018_path)\n",
    "dem_housing_info_2017=pd.read_csv(dem_housing_info_2017_path)\n",
    "dem_housing_info_2016=pd.read_csv(dem_housing_info_2016_path)\n",
    "dem_housing_info_2015=pd.read_csv(dem_housing_info_2015_path)\n",
    "\n",
    "# Create DataFrame\n",
    "demographics_2021_df=pd.DataFrame(dem_housing_info_2021)\n",
    "demographics_2020_df=pd.DataFrame(dem_housing_info_2020)\n",
    "demographics_2019_df=pd.DataFrame(dem_housing_info_2019)\n",
    "demographics_2018_df=pd.DataFrame(dem_housing_info_2018)\n",
    "demographics_2017_df=pd.DataFrame(dem_housing_info_2017)\n",
    "demographics_2016_df=pd.DataFrame(dem_housing_info_2016)\n",
    "demographics_2015_df=pd.DataFrame(dem_housing_info_2015)"
   ]
  },
  {
   "cell_type": "code",
   "execution_count": null,
   "id": "12015c3e",
   "metadata": {},
   "outputs": [],
   "source": [
    "# Study financial data files\n",
    "financials_by_zip_2021_path=\"../resources/financials_by_zip_2021.csv\"\n",
    "financials_by_zip_2020_path=\"../resources/financials_by_zip_2020.csv\"\n",
    "financials_by_zip_2019_path=\"../resources/financials_by_zip_2019.csv\"\n",
    "financials_by_zip_2018_path=\"../resources/financials_by_zip_2018.csv\"\n",
    "financials_by_zip_2017_path=\"../resources/financials_by_zip_2017.csv\"\n",
    "financials_by_zip_2016_path=\"../resources/financials_by_zip_2016.csv\"\n",
    "financials_by_zip_2015_path=\"../resources/financials_by_zip_2015.csv\"\n",
    "\n",
    "# Read the data\n",
    "financials_by_zip_2021=pd.read_csv(financials_by_zip_2021_path)\n",
    "financials_by_zip_2020=pd.read_csv(financials_by_zip_2020_path)\n",
    "financials_by_zip_2019=pd.read_csv(financials_by_zip_2019_path)\n",
    "financials_by_zip_2018=pd.read_csv(financials_by_zip_2018_path)\n",
    "financials_by_zip_2017=pd.read_csv(financials_by_zip_2017_path)\n",
    "financials_by_zip_2016=pd.read_csv(financials_by_zip_2016_path)\n",
    "financials_by_zip_2015=pd.read_csv(financials_by_zip_2015_path)\n",
    "\n",
    "# Create DataFrame\n",
    "financials_by_zip_2021_df=pd.DataFrame(financials_by_zip_2021)\n",
    "financials_by_zip_2020_df=pd.DataFrame(financials_by_zip_2020)\n",
    "financials_by_zip_2019_df=pd.DataFrame(financials_by_zip_2019)\n",
    "financials_by_zip_2018_df=pd.DataFrame(financials_by_zip_2018)\n",
    "financials_by_zip_2017_df=pd.DataFrame(financials_by_zip_2017)\n",
    "financials_by_zip_2016_df=pd.DataFrame(financials_by_zip_2016)\n",
    "financials_by_zip_2015_df=pd.DataFrame(financials_by_zip_2015)\n",
    "\n",
    "# Clean columns\n",
    "financials_by_zip_2021_df=financials_by_zip_2021_df[[\"Label (Grouping)\",\"Occupied housing units\",\"Occupied housing units!!HOUSEHOLD INCOME IN THE PAST 12 MONTHS (IN 2021 INFLATION-ADJUSTED DOLLARS)!!Median household income (dollars)\",\"Occupied housing units!!MONTHLY HOUSING COSTS!!Median (dollars)\"]]\n",
    "financials_by_zip_2020_df=financials_by_zip_2020_df[[\"Label (Grouping)\",\"Occupied housing units\",\"Occupied housing units!!HOUSEHOLD INCOME IN THE PAST 12 MONTHS (IN 2020 INFLATION-ADJUSTED DOLLARS)!!Median household income (dollars)\",\"Occupied housing units!!MONTHLY HOUSING COSTS!!Median (dollars)\"]]\n",
    "financials_by_zip_2019_df=financials_by_zip_2019_df[[\"Label (Grouping)\",\"Occupied housing units\",\"Occupied housing units!!HOUSEHOLD INCOME IN THE PAST 12 MONTHS (IN 2019 INFLATION-ADJUSTED DOLLARS)!!Median household income (dollars)\",\"Occupied housing units!!MONTHLY HOUSING COSTS!!Median (dollars)\"]]\n",
    "financials_by_zip_2018_df=financials_by_zip_2018_df[[\"Label (Grouping)\",\"Occupied housing units\",\"Occupied housing units!!HOUSEHOLD INCOME IN THE PAST 12 MONTHS (IN 2018 INFLATION-ADJUSTED DOLLARS)!!Median household income (dollars)\",\"Occupied housing units!!MONTHLY HOUSING COSTS!!Median (dollars)\"]]\n",
    "financials_by_zip_2017_df=financials_by_zip_2017_df[[\"Label (Grouping)\",\"Occupied housing units\",\"Occupied housing units!!HOUSEHOLD INCOME IN THE PAST 12 MONTHS (IN 2017 INFLATION-ADJUSTED DOLLARS)!!Median household income (dollars)\",\"Occupied housing units!!MONTHLY HOUSING COSTS!!Median (dollars)\"]]\n",
    "financials_by_zip_2016_df=financials_by_zip_2016_df[[\"Label (Grouping)\",\"Occupied housing units\",\"HOUSEHOLD INCOME IN THE PAST 12 MONTHS (IN 2016 INFLATION-ADJUSTED DOLLARS)!!Median household income (dollars)\",\"MONTHLY HOUSING COSTS!!Median (dollars)\"]]\n",
    "financials_by_zip_2015_df=financials_by_zip_2015_df[[\"Label (Grouping)\",\"Occupied housing units\",\"HOUSEHOLD INCOME IN THE PAST 12 MONTHS (IN 2015 INFLATION-ADJUSTED DOLLARS)!!Median household income (dollars)\",\"MONTHLY HOUSING COSTS!!Median (dollars)\"]]\n",
    "\n",
    "# Rename columns\n",
    "financials_by_zip_2021_df=financials_by_zip_2021_df.rename(columns={\"Label (Grouping)\":\"Zip Code\",\"Occupied housing units!!HOUSEHOLD INCOME IN THE PAST 12 MONTHS (IN 2021 INFLATION-ADJUSTED DOLLARS)!!Median household income (dollars)\":\"Median household income\",\"Occupied housing units!!MONTHLY HOUSING COSTS!!Median (dollars)\":\"Median monthly housing costs\"})\n",
    "financials_by_zip_2020_df=financials_by_zip_2020_df.rename(columns={\"Label (Grouping)\":\"Zip Code\",\"Occupied housing units!!HOUSEHOLD INCOME IN THE PAST 12 MONTHS (IN 2020 INFLATION-ADJUSTED DOLLARS)!!Median household income (dollars)\":\"Median household income\",\"Occupied housing units!!MONTHLY HOUSING COSTS!!Median (dollars)\":\"Median monthly housing costs\"})\n",
    "financials_by_zip_2019_df=financials_by_zip_2019_df.rename(columns={\"Label (Grouping)\":\"Zip Code\",\"Occupied housing units!!HOUSEHOLD INCOME IN THE PAST 12 MONTHS (IN 2019 INFLATION-ADJUSTED DOLLARS)!!Median household income (dollars)\":\"Median household income\",\"Occupied housing units!!MONTHLY HOUSING COSTS!!Median (dollars)\":\"Median monthly housing costs\"})\n",
    "financials_by_zip_2018_df=financials_by_zip_2018_df.rename(columns={\"Label (Grouping)\":\"Zip Code\",\"Occupied housing units!!HOUSEHOLD INCOME IN THE PAST 12 MONTHS (IN 2018 INFLATION-ADJUSTED DOLLARS)!!Median household income (dollars)\":\"Median household income\",\"Occupied housing units!!MONTHLY HOUSING COSTS!!Median (dollars)\":\"Median monthly housing costs\"})\n",
    "financials_by_zip_2017_df=financials_by_zip_2017_df.rename(columns={\"Label (Grouping)\":\"Zip Code\",\"Occupied housing units!!HOUSEHOLD INCOME IN THE PAST 12 MONTHS (IN 2017 INFLATION-ADJUSTED DOLLARS)!!Median household income (dollars)\":\"Median household income\",\"Occupied housing units!!MONTHLY HOUSING COSTS!!Median (dollars)\":\"Median monthly housing costs\"})\n",
    "financials_by_zip_2016_df=financials_by_zip_2016_df.rename(columns={\"Label (Grouping)\":\"Zip Code\",\"HOUSEHOLD INCOME IN THE PAST 12 MONTHS (IN 2016 INFLATION-ADJUSTED DOLLARS)!!Median household income (dollars)\":\"Median household income\",\"MONTHLY HOUSING COSTS!!Median (dollars)\":\"Median monthly housing costs\"})\n",
    "financials_by_zip_2015_df=financials_by_zip_2015_df.rename(columns={\"Label (Grouping)\":\"Zip Code\",\"HOUSEHOLD INCOME IN THE PAST 12 MONTHS (IN 2015 INFLATION-ADJUSTED DOLLARS)!!Median household income (dollars)\":\"Median household income\",\"MONTHLY HOUSING COSTS!!Median (dollars)\":\"Median monthly housing costs\"})"
   ]
  },
  {
   "cell_type": "code",
   "execution_count": null,
   "id": "f69a254f",
   "metadata": {},
   "outputs": [],
   "source": [
    "# Format data\n",
    "#list(financials_by_zip_2021_df[\"Zip Code\"].str.strip())\n",
    "\n",
    "# Define function to condense rows with renter info\n",
    "def clean_renter_df(df):\n",
    "    new_data = []\n",
    "    for row in range(0,df.shape[0],13):\n",
    "        \n",
    "        zip_row = df.loc[row]\n",
    "        rental_row = df.loc[row+10]\n",
    "\n",
    "        # Generate New Rows of Data\n",
    "        new_data_row=[]\n",
    "        \n",
    "        # Get data from zip_row\n",
    "        zip_code = zip_row[\"Zip Code\"]\n",
    "        new_data_row.append(zip_code)\n",
    "        \n",
    "        # Get data from rental row\n",
    "        housing_units=rental_row[\"Occupied housing units\"]\n",
    "        new_data_row.append(housing_units)\n",
    "        income=rental_row[\"Median household income\"]\n",
    "        new_data_row.append(income)\n",
    "        housing_costs=rental_row[\"Median monthly housing costs\"]\n",
    "        new_data_row.append(housing_costs)\n",
    "\n",
    "        # Append row to construct dataframe\n",
    "        new_data.append(new_data_row)\n",
    "\n",
    "    new_dataframe = pd.DataFrame(new_data)\n",
    "    #print(new_dataframe)\n",
    "    return new_dataframe"
   ]
  },
  {
   "cell_type": "code",
   "execution_count": null,
   "id": "b60df311",
   "metadata": {},
   "outputs": [],
   "source": [
    "clean_2021=clean_renter_df(financials_by_zip_2021_df)\n",
    "clean_2021=clean_2021.rename(columns={0:\"Zip Code\",1:\"Occupied housing units\",2:\"Median household income\",3:\"Median monthly housing costs\"})\n",
    "clean_2021=clean_2021.loc[clean_2021[\"Occupied housing units\"]!=\"0\"]\n",
    "clean_2021[\"Year\"]=2021\n",
    "clean_2021=clean_2021[[\"Year\",\"Zip Code\",\"Occupied housing units\",\"Median household income\",\"Median monthly housing costs\"]]\n",
    "clean_2021.head()"
   ]
  },
  {
   "cell_type": "code",
   "execution_count": null,
   "id": "0c8f9052",
   "metadata": {},
   "outputs": [],
   "source": [
    "clean_2020=clean_renter_df(financials_by_zip_2020_df)\n",
    "clean_2020=clean_2020.rename(columns={0:\"Zip Code\",1:\"Occupied housing units\",2:\"Median household income\",3:\"Median monthly housing costs\"})\n",
    "clean_2020=clean_2020.loc[clean_2020[\"Occupied housing units\"]!=\"0\"]\n",
    "clean_2020[\"Year\"]=2020\n",
    "clean_2020=clean_2020[[\"Year\",\"Zip Code\",\"Occupied housing units\",\"Median household income\",\"Median monthly housing costs\"]]\n",
    "clean_2020.head()"
   ]
  },
  {
   "cell_type": "code",
   "execution_count": null,
   "id": "18c23e71",
   "metadata": {},
   "outputs": [],
   "source": [
    "clean_2019=clean_renter_df(financials_by_zip_2019_df)\n",
    "clean_2019=clean_2019.rename(columns={0:\"Zip Code\",1:\"Occupied housing units\",2:\"Median household income\",3:\"Median monthly housing costs\"})\n",
    "clean_2019=clean_2019.loc[clean_2019[\"Occupied housing units\"]!=\"0\"]\n",
    "clean_2019[\"Year\"]=2019\n",
    "clean_2019=clean_2019[[\"Year\",\"Zip Code\",\"Occupied housing units\",\"Median household income\",\"Median monthly housing costs\"]]\n",
    "clean_2019.head()"
   ]
  },
  {
   "cell_type": "code",
   "execution_count": null,
   "id": "34ab77db",
   "metadata": {},
   "outputs": [],
   "source": [
    "clean_2018=clean_renter_df(financials_by_zip_2018_df)\n",
    "clean_2018=clean_2018.rename(columns={0:\"Zip Code\",1:\"Occupied housing units\",2:\"Median household income\",3:\"Median monthly housing costs\"})\n",
    "clean_2018=clean_2018.loc[clean_2018[\"Occupied housing units\"]!=\"0\"]\n",
    "clean_2018[\"Year\"]=2018\n",
    "clean_2018=clean_2018[[\"Year\",\"Zip Code\",\"Occupied housing units\",\"Median household income\",\"Median monthly housing costs\"]]\n",
    "clean_2018.head()"
   ]
  },
  {
   "cell_type": "code",
   "execution_count": null,
   "id": "ea079326",
   "metadata": {},
   "outputs": [],
   "source": [
    "clean_2017=clean_renter_df(financials_by_zip_2017_df)\n",
    "clean_2017=clean_2017.rename(columns={0:\"Zip Code\",1:\"Occupied housing units\",2:\"Median household income\",3:\"Median monthly housing costs\"})\n",
    "clean_2017=clean_2017.loc[clean_2017[\"Occupied housing units\"]!=\"0\"]\n",
    "clean_2017[\"Year\"]=2017\n",
    "clean_2017=clean_2017[[\"Year\",\"Zip Code\",\"Occupied housing units\",\"Median household income\",\"Median monthly housing costs\"]]\n",
    "clean_2017.head()"
   ]
  },
  {
   "cell_type": "code",
   "execution_count": null,
   "id": "a6cb2137",
   "metadata": {},
   "outputs": [],
   "source": [
    "# Format data\n",
    "#list(financials_by_zip_2021_df[\"Zip Code\"].str.strip())\n",
    "\n",
    "# Define second function to address change in total rows of data for 2015 & 2016\n",
    "def clean_renter2_df(df):\n",
    "    new_data = []\n",
    "    for row in range(0,df.shape[0],7):\n",
    "        \n",
    "        zip_row = df.loc[row]\n",
    "        rental_row = df.loc[row+6]\n",
    "\n",
    "        # Generate New Rows of Data\n",
    "        new_data_row=[]\n",
    "        \n",
    "        # Get data from zip_row\n",
    "        zip_code = zip_row[\"Zip Code\"]\n",
    "        new_data_row.append(zip_code)\n",
    "        \n",
    "        # Get data from rental row\n",
    "        housing_units=rental_row[\"Occupied housing units\"]\n",
    "        new_data_row.append(housing_units)\n",
    "        income=rental_row[\"Median household income\"]\n",
    "        new_data_row.append(income)\n",
    "        housing_costs=rental_row[\"Median monthly housing costs\"]\n",
    "        new_data_row.append(housing_costs)\n",
    "\n",
    "        # Append row to construct dataframe\n",
    "        new_data.append(new_data_row)\n",
    "\n",
    "    new_dataframe = pd.DataFrame(new_data)\n",
    "    #print(new_dataframe)\n",
    "    return new_dataframe"
   ]
  },
  {
   "cell_type": "code",
   "execution_count": null,
   "id": "15ccdea9",
   "metadata": {},
   "outputs": [],
   "source": [
    "clean_2016=clean_renter2_df(financials_by_zip_2016_df)\n",
    "clean_2016=clean_2016.rename(columns={0:\"Zip Code\",1:\"Occupied housing units\",2:\"Median household income\",3:\"Median monthly housing costs\"})\n",
    "clean_2016=clean_2016.loc[clean_2016[\"Occupied housing units\"]!=\"0\"]\n",
    "clean_2016[\"Year\"]=2016\n",
    "clean_2016=clean_2016[[\"Year\",\"Zip Code\",\"Occupied housing units\",\"Median household income\",\"Median monthly housing costs\"]]\n",
    "clean_2016.head()"
   ]
  },
  {
   "cell_type": "code",
   "execution_count": null,
   "id": "418056a4",
   "metadata": {},
   "outputs": [],
   "source": [
    "clean_2015=clean_renter2_df(financials_by_zip_2015_df)\n",
    "clean_2015=clean_2015.rename(columns={0:\"Zip Code\",1:\"Occupied housing units\",2:\"Median household income\",3:\"Median monthly housing costs\"})\n",
    "clean_2015=clean_2015.loc[clean_2015[\"Occupied housing units\"]!=\"0\"]\n",
    "clean_2015[\"Year\"]=2015\n",
    "clean_2015=clean_2015[[\"Year\",\"Zip Code\",\"Occupied housing units\",\"Median household income\",\"Median monthly housing costs\"]]\n",
    "clean_2015.head()"
   ]
  },
  {
   "cell_type": "code",
   "execution_count": null,
   "id": "8ab23fb9",
   "metadata": {},
   "outputs": [],
   "source": [
    "# Merge 2015 and 2021 data frames\n",
    "beg_end_data=pd.merge(clean_2015,clean_2021,how=\"left\",on=\"Zip Code\")\n",
    "\n",
    "# Rename columns with year\n",
    "beg_end_data=beg_end_data.rename(columns={\"Occupied housing units_x\":\"Occupied housing units 2015\",\n",
    "                                         \"Median household income_x\":\"Median household income 2015\",\n",
    "                                         \"Median monthly housing costs_x\":\"Median monthly housing costs 2015\",\n",
    "                                         \"Occupied housing units_y\":\"Occupied housing units 2021\",\n",
    "                                         \"Median household income_y\":\"Median household income 2021\",\n",
    "                                         \"Median monthly housing costs_y\":\"Median monthly housing costs 2021\"})\n",
    "# Remove year columns\n",
    "beg_end_data=beg_end_data[[\"Zip Code\",\"Occupied housing units 2015\",\"Median household income 2015\",\"Median monthly housing costs 2015\",\n",
    "                          \"Occupied housing units 2021\",\"Median household income 2021\",\"Median monthly housing costs 2021\"]]\n",
    "beg_end_data.head()"
   ]
  },
  {
   "cell_type": "code",
   "execution_count": null,
   "id": "cdd10323",
   "metadata": {},
   "outputs": [],
   "source": [
    "# Create zip map to show percent change in median income\n",
    "\n",
    "# Read in polygon zip code .shp file from OpenDataPhilly (https://opendataphilly.org/datasets/zip-codes/)\n",
    "# See geopandas user guide (https://geopandas.org/en/latest/docs/user_guide/mapping.html)\n",
    "zip_code_map = geopandas.GeoDataFrame.from_file(\"../resources/Zipcodes_Poly.shp\")\n",
    "\n",
    "# Sort data frame in order of ascending zip codes\n",
    "zip_code_map_sorted=zip_code_map.sort_values(by=\"CODE\")\n",
    "\n",
    "# Manually add and fill percent change column\n",
    "zip_code_map_sorted[\"% Change in Median Income 2015-2021\"]=[17.07,48.48,66.43,15.8,23.46,None,29.84,None,13.4,22.8,54.4,\n",
    "                                                           11.48,29.44,33.12,78.9,0-2.1,57.2,29.22,116.19,101.19,7.79,\n",
    "                                                           36.88,73.91,54.89,73.41,19.53,93,60.37,24.22,36.82,4.92,43.31,\n",
    "                                                           29,37.2,39.74,42.83,42.21,16.19,94.64,86,25.5,87.26,54,47.7,\n",
    "                                                           46.3,58.76,22,33.16]\n",
    "\n",
    "zip_code_map_sorted.head()"
   ]
  },
  {
   "cell_type": "code",
   "execution_count": null,
   "id": "e274edac",
   "metadata": {},
   "outputs": [],
   "source": [
    "# Create zip code map\n",
    "ax = zip_code_map_sorted.plot(column=\"% Change in Median Income 2015-2021\", legend=True, missing_kwds={'color': 'lightgrey'},cmap=\"summer\")\n",
    "ax.set_axis_off()\n",
    "ax.set_title(\"% Change in Median Household Income, 2015-2021\")\n",
    "plt.show()\n",
    "print(\"Median income data missing for 19109 and 19112\")"
   ]
  },
  {
   "cell_type": "markdown",
   "id": "2a10d48a",
   "metadata": {},
   "source": [
    "## Rental prices, home values, and property tax delinquencies by zipcode (Andrew)"
   ]
  },
  {
   "cell_type": "code",
   "execution_count": null,
   "id": "b2912cb3",
   "metadata": {},
   "outputs": [],
   "source": [
    "# Files to Load\n",
    "homevalues_data_to_load = Path(\"Resources/zillow/Home_values.csv\")\n",
    "rentals_data_to_load = Path(\"Resources/zillow/Rentals.csv\")\n",
    "\n",
    "# Read Home Values and Rentals data files and store into Pandas DataFrames\n",
    "home_values_data_df = pd.read_csv(homevalues_data_to_load)\n",
    "rentals_data_df = pd.read_csv(rentals_data_to_load)"
   ]
  },
  {
   "cell_type": "code",
   "execution_count": null,
   "id": "6b317863",
   "metadata": {},
   "outputs": [],
   "source": [
    "# Preview data\n",
    "rentals_data_df.head()"
   ]
  },
  {
   "cell_type": "code",
   "execution_count": null,
   "id": "79baf67e",
   "metadata": {},
   "outputs": [],
   "source": [
    "# Narrow down dataframe to city = Philadelphia\n",
    "philadelphia_home_values = home_values_data_df.loc[home_values_data_df[\"City\"]==\"Philadelphia\",:]\n",
    "philadelphia_rentals = rentals_data_df.loc[rentals_data_df[\"City\"]==\"Philadelphia\",:]"
   ]
  },
  {
   "cell_type": "code",
   "execution_count": null,
   "id": "79e063ca",
   "metadata": {},
   "outputs": [],
   "source": [
    "# Narrow down dataframe to state = PA\n",
    "philadelphiaPA_home_values = philadelphia_home_values.loc[philadelphia_home_values[\"State\"]==\"PA\",:]\n",
    "philadelphiaPA_rentals = philadelphia_rentals.loc[philadelphia_rentals[\"State\"]==\"PA\",:]"
   ]
  },
  {
   "cell_type": "code",
   "execution_count": null,
   "id": "14499ba4",
   "metadata": {},
   "outputs": [],
   "source": [
    "# Inspect new rentals dataframe\n",
    "philadelphiaPA_rentals.head()"
   ]
  },
  {
   "cell_type": "code",
   "execution_count": null,
   "id": "06582cc4",
   "metadata": {},
   "outputs": [],
   "source": [
    "# Inspect new home values dataframe\n",
    "philadelphiaPA_home_values.head()"
   ]
  },
  {
   "cell_type": "code",
   "execution_count": null,
   "id": "55296bd9",
   "metadata": {},
   "outputs": [],
   "source": [
    "# Reduce columns to 2015-2023, as that is how far back we have rental data\n",
    "# and we no longer need city, state, etc.\n",
    "phila_homes = philadelphiaPA_home_values[['RegionName', '6/30/2015','6/30/2016','6/30/2017','6/30/2018',\n",
    "                                         '6/30/2019','6/30/2020','6/30/2021','6/30/2022','6/30/2023']]\n",
    "\n",
    "phila_rentals = philadelphiaPA_rentals[['RegionName', '2015-01-31', '2015-02-28',\n",
    "'2015-03-31', '2015-04-30', '2015-05-31', '2015-06-30',\n",
    "'2015-07-31', '2015-08-31', '2015-09-30', '2015-10-31',\n",
    "'2015-11-30', '2015-12-31', '2016-01-31', '2016-02-29',\n",
    "'2016-03-31', '2016-04-30', '2016-05-31', '2016-06-30',\n",
    "'2016-07-31', '2016-08-31', '2016-09-30', '2016-10-31',\n",
    "'2016-11-30', '2016-12-31', '2017-01-31', '2017-02-28',\n",
    "'2017-03-31', '2017-04-30', '2017-05-31', '2017-06-30',\n",
    "'2017-07-31', '2017-08-31', '2017-09-30', '2017-10-31',\n",
    "'2017-11-30', '2017-12-31', '2018-01-31', '2018-02-28',\n",
    "'2018-03-31', '2018-04-30', '2018-05-31', '2018-06-30',\n",
    "'2018-07-31', '2018-08-31', '2018-09-30', '2018-10-31',\n",
    "'2018-11-30', '2018-12-31', '2019-01-31', '2019-02-28',\n",
    "'2019-03-31', '2019-04-30', '2019-05-31', '2019-06-30',\n",
    "'2019-07-31', '2019-08-31', '2019-09-30', '2019-10-31',\n",
    "'2019-11-30', '2019-12-31', '2020-01-31', '2020-02-29',\n",
    "'2020-03-31', '2020-04-30', '2020-05-31', '2020-06-30',\n",
    "'2020-07-31', '2020-08-31', '2020-09-30', '2020-10-31',\n",
    "'2020-11-30', '2020-12-31', '2021-01-31', '2021-02-28',\n",
    "'2021-03-31', '2021-04-30', '2021-05-31', '2021-06-30',\n",
    "'2021-07-31', '2021-08-31', '2021-09-30', '2021-10-31',\n",
    "'2021-11-30', '2021-12-31', '2022-01-31', '2022-02-28',\n",
    "'2022-03-31', '2022-04-30', '2022-05-31', '2022-06-30',\n",
    "'2022-07-31', '2022-08-31', '2022-09-30', '2022-10-31',\n",
    "'2022-11-30', '2022-12-31', '2023-01-31', '2023-02-28',\n",
    "'2023-03-31', '2023-04-30', '2023-05-31', '2023-06-30']]"
   ]
  },
  {
   "cell_type": "code",
   "execution_count": null,
   "id": "da7e975c",
   "metadata": {},
   "outputs": [],
   "source": [
    "# Minor data wrangling\n",
    "phl_zillow_homevalues = phila_homes.rename(columns={'RegionName':'Zip Code'})\n",
    "phl_zillow_rentals = phila_rentals.rename(columns={'RegionName':'Zip Code'})"
   ]
  },
  {
   "cell_type": "code",
   "execution_count": null,
   "id": "c6dddd78",
   "metadata": {},
   "outputs": [],
   "source": [
    "# Calculate % change in home values from June 2015 to June 2023\n",
    "homevalue_change = (phl_zillow_homevalues[\"6/30/2023\"] - phl_zillow_homevalues[\"6/30/2015\"])/phl_zillow_homevalues[\"6/30/2015\"] * 100\n",
    "phl_zillow_homevalues[\"Percent Change 2015 to 2023\"] = homevalue_change\n",
    "phl_zillow_homevalues = phl_zillow_homevalues.loc[:,[\"Zip Code\",\"6/30/2015\", \"6/30/2023\",\"Percent Change 2015 to 2023\"]]\n",
    "phl_zillow_homevalues"
   ]
  },
  {
   "cell_type": "code",
   "execution_count": null,
   "id": "3bc764d4",
   "metadata": {},
   "outputs": [],
   "source": [
    "# Inspect all columns to see when each zip code is missing data for rentals\n",
    "# The pd.set_option code was found at https://www.geeksforgeeks.org/show-all-columns-of-pandas-dataframe-in-jupyter-notebook/\n",
    "pd.set_option('display.max_columns', None)\n",
    "phila_rentals"
   ]
  },
  {
   "cell_type": "code",
   "execution_count": null,
   "id": "a71c9955",
   "metadata": {},
   "outputs": [],
   "source": [
    "# Record the missing data\n",
    "print(\"Some zip codes are missing rental data for earlier years...\")\n",
    "print(\"Zip codes that start in 2015: 19104, 19146, 19147, 19128, 19121, 19123, 19106, 19127, 19125, 19103, 19130\")\n",
    "print(\"Zip codes that start in 2016: 19143, 19134, 19139\")\n",
    "print(\"Zip codes that start in 2017: 19124, 19148, 19144, 19131\")\n",
    "print(\"Zip codes that start in 2018: 19145, 19132, 19122, 19107, 19102\")\n",
    "print(\"Zip codes that start in 2020: 19129\")\n",
    "print(\"Zip codes that start in 2021: 19118\")\n",
    "print(\"Zip codes that start in 2022: 19140, 19111, 19149, 19136, 19135, 19141, 19151, 19114, 19138, 19119, 19133\")"
   ]
  },
  {
   "cell_type": "code",
   "execution_count": null,
   "id": "026d19cb",
   "metadata": {},
   "outputs": [],
   "source": [
    "# Calculate % change in rentals from June 2022 to June 2023\n",
    "# Since there is not enough data to compare against home values, we will not attempt to compare head-to-head by zip code\n",
    "rentals_change = (phl_zillow_rentals[\"2023-06-30\"] - phl_zillow_rentals[\"2022-06-30\"])/phl_zillow_rentals[\"2022-06-30\"] * 100\n",
    "\n",
    "# Add % change to dataframe\n",
    "phl_zillow_rentals[\"Percent Change 2022 to 2023\"] = rentals_change\n",
    "\n",
    "# Calculate absolute change in rentals from June 2022 to June 2023\n",
    "rental_annual_increase = phl_zillow_rentals[\"2023-06-30\"] - phl_zillow_rentals[\"2022-06-30\"]\n",
    "phl_zillow_rentals[\"Year-over-Year Change\"] = rental_annual_increase\n",
    "\n",
    "# Display only the columns we want, and drop zip codes with missing data\n",
    "phl_zillow_rentals = phl_zillow_rentals.loc[:,[\"Zip Code\",\"2022-06-30\", \"2023-06-30\",\n",
    "                                               \"Year-over-Year Change\", \"Percent Change 2022 to 2023\"]]\n",
    "phl_zillow_rentals = phl_zillow_rentals.dropna()\n",
    "phl_zillow_rentals.head()"
   ]
  },
  {
   "cell_type": "code",
   "execution_count": null,
   "id": "00b6e055",
   "metadata": {},
   "outputs": [],
   "source": [
    "# Read in polygon zip code .shp file from OpenDataPhilly (https://opendataphilly.org/datasets/zip-codes/)\n",
    "# See geopandas user guide (https://geopandas.org/en/latest/docs/user_guide/mapping.html)\n",
    "phl_zips = geopandas.GeoDataFrame.from_file('Resources/zipcodes/Zipcodes_Poly.shp')"
   ]
  },
  {
   "cell_type": "code",
   "execution_count": null,
   "id": "ca7da184",
   "metadata": {},
   "outputs": [],
   "source": [
    "# Manually add column with percent changes from phl_zillow_rentals\n",
    "phl_zips_rentals = phl_zips\n",
    "phl_zips_rentals[\"Percent Change 2022 to 2023\"]=[None, -1.02, 5.82, 0.31, 5.85, 2.15, None, 4.13, 5.17, 1.05, 0.05, 3.65,\n",
    "                                                 1.42, 0.92, None, 3.82, None, -0.55, None, None, 10.23, 2.31, 0.72, None,\n",
    "                                                 8.19, None, None, None, None, 1.70, 4.94, None, 9.11, None, 4.12, 4.97, None,\n",
    "                                                 2.72, 5.64, 0.79, 10.20, 4.89, 2.63, -0.54, 5.60, 3.89, 2.35, 4.74]\n",
    "phl_zips_rentals.head()"
   ]
  },
  {
   "cell_type": "code",
   "execution_count": null,
   "id": "a08ef4bc",
   "metadata": {},
   "outputs": [],
   "source": [
    "ax = phl_zips_rentals.plot(column='Percent Change 2022 to 2023', legend=True, missing_kwds={'color': 'lightgrey'})\n",
    "ax.set_axis_off()\n",
    "ax.set_title('Percent Change in Monthly Rent, 2022 to 2023')\n",
    "plt.show()"
   ]
  },
  {
   "cell_type": "code",
   "execution_count": null,
   "id": "a5339f00",
   "metadata": {},
   "outputs": [],
   "source": [
    "# Sort home values data by zip code to make it easier adding percent change to geopandas dataframe\n",
    "phl_homevalues_sorted = phl_zillow_homevalues.sort_values(by=\"Zip Code\")\n",
    "phl_homevalues_sorted.head()"
   ]
  },
  {
   "cell_type": "code",
   "execution_count": null,
   "id": "54ee8b40",
   "metadata": {},
   "outputs": [],
   "source": [
    "# Manually add column with percent changes from phl_zillow_homevalues\n",
    "phl_zips_sorted = phl_zips.sort_values(by=\"CODE\")\n",
    "phl_zips_homevalues = phl_zips_sorted\n",
    "phl_zips_homevalues[\"Percent Change 2015 to 2023\"]=[1.85, 15.60, 138.95, 31.93, 44.20, None, 88.77, None, 64.14, 64.49, 67.44,\n",
    "                                                   61.74, 63.94, 107.80, 326.55, 114.01, 45.63, 117.44, 74.78, 75.51, 46.81,\n",
    "                                                   53.46, 63.81, 34.34, 108.83, 338.66, 274.61, 133.42, 93.95, 84.89, 77.11,\n",
    "                                                   109.10, 231.72, 248.54, 90.05, 153.68, 186.87, 118.65, 94.36, 66.55, 41.88,\n",
    "                                                   67.28, 89.21, 66.50, 80.22, 73.56, 80.57, 57.62]\n",
    "phl_zips_homevalues.head()"
   ]
  },
  {
   "cell_type": "code",
   "execution_count": null,
   "id": "7412ff7d",
   "metadata": {},
   "outputs": [],
   "source": [
    "ax = phl_zips_homevalues.plot(column='Percent Change 2015 to 2023', legend=True, missing_kwds={'color': 'lightgrey'}, cmap='Wistia')\n",
    "ax.set_axis_off()\n",
    "ax.set_title('Percent Change in Home Values, 2015 to 2023')\n",
    "plt.show()"
   ]
  },
  {
   "cell_type": "code",
   "execution_count": null,
   "id": "4ff3a764",
   "metadata": {},
   "outputs": [],
   "source": [
    "# Files to Load\n",
    "tax_data_to_load = Path(\"Resources/taxes/tax_delinquencies_philadelphia.csv\")\n",
    "\n",
    "# Read tax delinquencies file and store into Pandas DataFrames, and look at only cases with >$100 due\n",
    "tax_delinquencies = pd.read_csv(tax_data_to_load)\n",
    "tax_delinquencies_over100 = tax_delinquencies[tax_delinquencies['total_due']>100]\n",
    "\n",
    "# Count number of cases per zip code\n",
    "td_by_zip = tax_delinquencies_over100['zip_code'].value_counts()"
   ]
  },
  {
   "cell_type": "code",
   "execution_count": null,
   "id": "6500a05a",
   "metadata": {},
   "outputs": [],
   "source": [
    "tax_delinquencies_over100"
   ]
  },
  {
   "cell_type": "code",
   "execution_count": null,
   "id": "c91904b7",
   "metadata": {},
   "outputs": [],
   "source": [
    "# Prepare tax delinquency data for merging with home values data\n",
    "td_df = pd.DataFrame(td_by_zip).reset_index()\n",
    "td_df = td_df.rename(columns={'index':'zip', 'zip_code':'tax_delinquencies'})\n",
    "\n",
    "# This drops a \"1.0\" and \"19192.0\" zip code which are not valid\n",
    "td_df = td_df.drop([46,49])\n",
    "td_df.head()"
   ]
  },
  {
   "cell_type": "code",
   "execution_count": null,
   "id": "1d32b37a",
   "metadata": {},
   "outputs": [],
   "source": [
    "# Prepare home values data to merge with tax delinquencies data\n",
    "hv_df = phl_zillow_homevalues.rename(columns={'Zip Code':'zip'})\n",
    "hv_df.head()"
   ]
  },
  {
   "cell_type": "code",
   "execution_count": null,
   "id": "6500cf93",
   "metadata": {},
   "outputs": [],
   "source": [
    "# Merge home values and tax delinquencies data\n",
    "hv_td = pd.merge(td_df, hv_df, how=\"outer\", on=\"zip\")\n",
    "\n",
    "# Remove 19112 and 19108 because they are missing data\n",
    "hv_td_clean = hv_td.drop([46,47])\n",
    "hv_td_clean.head()"
   ]
  },
  {
   "cell_type": "code",
   "execution_count": null,
   "id": "794956d0",
   "metadata": {},
   "outputs": [],
   "source": [
    "# Define a function to create Linear Regression plots\n",
    "def regression_line(x_values, y_values):\n",
    "    \n",
    "    (slope, intercept, rvalue, pvalue, stderr) = st.linregress(x_values, y_values)\n",
    "    regress_values = x_values * slope + intercept\n",
    "    line_eq = \"y = \" + str(round(slope,2)) + \"x + \" + str(round(intercept,2))\n",
    "    \n",
    "    plt.plot(x_values,regress_values,color=\"red\")\n",
    "    print(f\"The equation of the regression line is {line_eq}\")\n",
    "    print(f\"The r-squared is: {rvalue**2}\")"
   ]
  },
  {
   "cell_type": "code",
   "execution_count": null,
   "id": "5a88e1bb",
   "metadata": {},
   "outputs": [],
   "source": [
    "# Scatter plot of % change in home values vs. tax delinquencies\n",
    "x_values = hv_td_clean[\"Percent Change 2015 to 2023\"]\n",
    "y_values = hv_td_clean[\"tax_delinquencies\"]\n",
    "homevalue_2023 = hv_td_clean[\"6/30/2023\"]/5000\n",
    "\n",
    "plt.scatter(x_values, y_values,s=homevalue_2023, alpha=0.5)\n",
    "plt.xlabel(\"Percent Increase in Home Value\")\n",
    "plt.ylabel(\"Number of Tax Delinquencies\")\n",
    "plt.title(\"Changes in Home Values and Tax Delinquencies in Philadelphia by Zip Code, 2015-2023\")\n",
    "\n",
    "# Add regression line using defined function\n",
    "regression_line(x_values, y_values)\n",
    "\n",
    "print('-------------------------------------')\n",
    "\n",
    "# Calculate Pearson's r for the scatter plot\n",
    "correlation = st.pearsonr(x_values,y_values)\n",
    "print(f\"The correlation between both factors is {round(correlation[0],2)}\")\n",
    "print(f\"The p-value of Pearson's r correlation coefficient is {correlation[1]}\")\n",
    "\n",
    "# Add horizontal reference line at 1225 tax delinquencies\n",
    "xmin=min(x_values)\n",
    "xmax=max(x_values)\n",
    "plt.hlines(1225, xmin, xmax, colors=\"gray\", alpha=0.2)\n",
    "           \n",
    "plt.show()"
   ]
  },
  {
   "cell_type": "code",
   "execution_count": null,
   "id": "9422ad2e",
   "metadata": {},
   "outputs": [],
   "source": [
    "priority_zips_df = hv_td_clean[hv_td_clean['tax_delinquencies']>1225]\n",
    "priority_zips_df"
   ]
  },
  {
   "cell_type": "code",
   "execution_count": null,
   "id": "47dcb1d1",
   "metadata": {},
   "outputs": [],
   "source": [
    "# Convert zipcodes to integers to remove the trailing zero\n",
    "priority_zips = priority_zips_df['zip'].astype(int)\n",
    "\n",
    "# Make a list of the priority zips to print out\n",
    "priority_zips_list = [zipcode for zipcode in priority_zips]\n",
    "print('TO MITIGATE RISK OF DISPLACEMENT ASSOCIATED WITH GENTRIFICATION...')\n",
    "print('The following zip codes should be prioritized:')\n",
    "print(f'{priority_zips_list}')"
   ]
  },
  {
   "cell_type": "code",
   "execution_count": null,
   "id": "60949e17",
   "metadata": {},
   "outputs": [],
   "source": [
    "# Manually add priority status (true/false)\n",
    "phl_zips_homevalues[\"Priority Zip\"] = [False, False, False, False, False, False, False, False, False, False, False,\n",
    "                                       False, False, False, True, False, False, False, False, False, False,\n",
    "                                       False, False, False, False, True, True, True, False, False, False,\n",
    "                                       False, True, True, False, False, True, False, False, False, False,\n",
    "                                       False, False, False, False, False, False, False]\n",
    "phl_zips_homevalues"
   ]
  },
  {
   "cell_type": "code",
   "execution_count": null,
   "id": "d4cc66cf",
   "metadata": {},
   "outputs": [],
   "source": [
    "# Map the priority zip codes\n",
    "ax = phl_zips_homevalues.plot(column='Priority Zip', legend=False, missing_kwds={'color': 'lightgrey'})\n",
    "ax.set_axis_off()\n",
    "ax.set_title('Priority Zip Codes to Receive Tax Delinquency Forgiveness')\n",
    "plt.show()"
   ]
  }
 ],
 "metadata": {
  "kernelspec": {
   "display_name": "Python 3 (ipykernel)",
   "language": "python",
   "name": "python3"
  },
  "language_info": {
   "codemirror_mode": {
    "name": "ipython",
    "version": 3
   },
   "file_extension": ".py",
   "mimetype": "text/x-python",
   "name": "python",
   "nbconvert_exporter": "python",
   "pygments_lexer": "ipython3",
   "version": "3.10.12"
  }
 },
 "nbformat": 4,
 "nbformat_minor": 5
}
